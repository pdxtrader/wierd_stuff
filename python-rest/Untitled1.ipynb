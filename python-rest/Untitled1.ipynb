{
 "cells": [
  {
   "cell_type": "code",
   "execution_count": 1,
   "metadata": {},
   "outputs": [],
   "source": [
    "from jupyterthemes import jtplot"
   ]
  },
  {
   "cell_type": "code",
   "execution_count": 3,
   "metadata": {},
   "outputs": [
    {
     "name": "stdout",
     "output_type": "stream",
     "text": [
      "['__builtins__', '__cached__', '__doc__', '__file__', '__loader__', '__name__', '__package__', '__spec__', 'base_context', 'base_font', 'base_style', 'figsize', 'get_color_list', 'get_default_jtstyle', 'get_theme_style', 'glob', 'infer_theme', 'jupyter_config_dir', 'jupyter_custom', 'mpl', 'os', 'package_dir', 're', 'remove_non_colors', 'reset', 'set_context', 'set_style', 'style', 'styles_dir', 'sys', 'theme_name_file']\n"
     ]
    }
   ],
   "source": [
    "print(dir(jtplot))"
   ]
  }
 ],
 "metadata": {
  "kernelspec": {
   "display_name": "Python 3",
   "language": "python",
   "name": "python3"
  },
  "language_info": {
   "codemirror_mode": {
    "name": "ipython",
    "version": 3
   },
   "file_extension": ".py",
   "mimetype": "text/x-python",
   "name": "python",
   "nbconvert_exporter": "python",
   "pygments_lexer": "ipython3",
   "version": "3.6.3"
  }
 },
 "nbformat": 4,
 "nbformat_minor": 2
}
