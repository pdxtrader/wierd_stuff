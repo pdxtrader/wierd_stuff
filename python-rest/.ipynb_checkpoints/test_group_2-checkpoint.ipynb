{
 "cells": [
  {
   "cell_type": "code",
   "execution_count": 1,
   "metadata": {
    "scrolled": false
   },
   "outputs": [],
   "source": [
    "from    coinapi_v1 import CoinAPIv1\n",
    "import  datetime\n",
    "from    datetime  import date\n",
    "from    datetime  import datetime\n",
    "from    datetime  import timedelta\n",
    "\n",
    "\n",
    "test_key      =  'B77ED0B6-F44D-4186-A6BB-5AB92FAA3793'\n",
    "\n",
    "\n",
    "datetime__now     = datetime.now()\n",
    "datetime__now_iso = datetime__now.isoformat()\n",
    "date__today       = date.today()\n",
    "date__today_iso   = date__today.isoformat()\n",
    "\n",
    "date__today\n",
    "date__yesterday       = date__today - timedelta(1)\n",
    "date__two_days_ago    = date__today - timedelta(2)\n",
    "date__three_days_ago  = date__today - timedelta(3)\n",
    "date__four_days_ago   = date__today - timedelta(4)\n",
    "date__five_days_ago   = date__today - timedelta(5)\n",
    "date__six_days_ago    = date__today - timedelta(6)\n",
    "date__week_ago        = date__today - timedelta(7)\n",
    "date__mounth_ago      = date__today - timedelta(30)\n",
    "\n",
    "datetime__now             = datetime.now()\n",
    "datetime__yesterday       = datetime__now - timedelta(1)\n",
    "datetime__two_days_ago    = datetime__now - timedelta(2)\n",
    "datetime__three_days_ago  = datetime__now - timedelta(3)\n",
    "datetime__four_days_ago   = datetime__now - timedelta(4)\n",
    "datetime__five_days_ago   = datetime__now - timedelta(5)\n",
    "datetime__six_days_ago    = datetime__now - timedelta(6)\n",
    "datetime__week_ago        = datetime__now - timedelta(7)\n",
    "datetime__mounth_ago      = datetime__now - timedelta(30)\n",
    "\n",
    "datetime__hour_ago         = datetime__now - timedelta(hours = 1)\n",
    "datetime__two_hours_ago    = datetime__now - timedelta(hours = 2)\n",
    "datetime__three_hours_ago  = datetime__now - timedelta(hours = 3)\n",
    "datetime__six_hours_ago    = datetime__now - timedelta(hours = 6)\n",
    "datetime__twelve_hours_ago = datetime__now - timedelta(hours = 12)\n",
    "\n",
    "start_of_2015 = date(2015, 1, 1)\n",
    "start_of_2016 = date(2016, 1, 1)\n",
    "start_of_2017 = date(2017, 1, 1)\n",
    "start_of_2018 = date(2018, 1, 1)\n",
    "\n",
    "\n",
    "api       = CoinAPIv1(test_key)\n",
    "\n",
    "exchanges = api.metadata_list_exchanges()\n",
    "assets    = api.metadata_list_assets()\n",
    "symbols   = api.metadata_list_symbols()\n",
    "periods   = api.ohlcv_list_all_periods()\n",
    "\n",
    "current_rates = api.exchange_rates_get_all_current_rates('BTC')\n",
    "\n",
    "#some pre-processing for practical module specific names are not that bad a practice generally...\n",
    "asset_ids    = []\n",
    "exchange_ids = []\n",
    "symbol_ids   = []\n",
    "period_ids   = []\n",
    "\n",
    "for asset in assets:\n",
    "    asset_ids.append(asset['asset_id'])\n",
    "\n",
    "for exchange in exchanges:\n",
    "    exchange_ids.append(exchange['exchange_id'])\n",
    "\n",
    "for symbol in symbols:\n",
    "    symbol_ids.append(symbol['symbol_id'])\n",
    "\n",
    "for period in periods:\n",
    "    period_ids.append(period['period_id'])\n",
    "\n",
    "# details(thing_id) prints short info related to the thing_id\n",
    "# finish all coinapi specific iterables like symbols, exchanges and assets etc... \n",
    "# than populate a list named all_ids\n",
    "# implement a details(thing_id)) function which searchs the list which contains all ids.\n",
    "\n",
    "def print_exchanges():\n",
    "    global exchanges\n",
    "    print('\\n[coinapi: exchanges list]')\n",
    "    for exchange in exchanges:\n",
    "        print('  Exchange ID: %s'      % exchange['exchange_id'])\n",
    "        print('  Exchange website: %s' % exchange['website'])\n",
    "        print('  Exchange name: %s'    % exchange['name'])\n",
    "        print('\\n')\n",
    "        \n",
    "def print_assets():\n",
    "    global assets\n",
    "    print('\\n[coinapi: assets list]')\n",
    "    for asset in assets:\n",
    "        print('Asset ID: %s'             % asset['asset_id'])\n",
    "        print('Asset name: %s'           % asset['name'])\n",
    "        print('Asset type (crypto?): %s' % asset['type_is_crypto'])\n",
    "        print('\\n')\n",
    "\n",
    "def print_symbols():\n",
    "    global symbols\n",
    "    print('\\n[coinapi: symbols list]')\n",
    "    for symbol in symbols:\n",
    "        print('Symbol ID: %s'   % symbol['symbol_id'])    \n",
    "        print('Exchange ID: %s' % symbol['exchange_id'])\n",
    "        print('Symbol type: %s' % symbol['symbol_type'])\n",
    "        print('Asset ID base: %s' % symbol['asset_id_base'])\n",
    "        print('Asset ID quote: %s' % symbol['asset_id_quote'])\n",
    "        if (symbol['symbol_type'] == 'FUTURES'):\n",
    "            print('Future delivery time: %s' % symbol['future_delivery_time'])\n",
    "        if (symbol['symbol_type'] == 'OPTION'):\n",
    "            print('Option type is call: %s' % symbol['option_type_is_call'])\n",
    "            print('Option strike price: %s' % symbol['option_strike_price'])\n",
    "            print('Option contract unit: %s' % symbol['option_contract_unit'])\n",
    "            print('Option exercise style: %s' % symbol['option_exercise_style'])\n",
    "            print('Option expiration time: %s' % symbol['option_expiration_time'])\n",
    "        print('\\n')\n",
    "\n",
    "def exchange_rate(asset_1, asset_2):\n",
    "    global api\n",
    "    result = {}\n",
    "    exchange_rate   = api.exchange_rates_get_specific_rate(asset_1, asset_2)\n",
    "    result['time']  = exchange_rate['time']\n",
    "    result['base']  = exchange_rate['asset_id_base']\n",
    "    result['quote'] = exchange_rate['asset_id_quote']\n",
    "    result['rate']  = exchange_rate['rate']\n",
    "    return result\n",
    "\n",
    "def exchange_rate2(asset_1, asset_2, date_time):\n",
    "    global api\n",
    "    date_time_iso   = date_time.isoformat()\n",
    "    result = {}\n",
    "    exchange_rate   = api.exchange_rates_get_specific_rate(asset_1, asset_2, {'time' : date_time_iso})\n",
    "    result['time']  = exchange_rate['time']\n",
    "    result['base']  = exchange_rate['asset_id_base']\n",
    "    result['quote'] = exchange_rate['asset_id_quote']\n",
    "    result['rate']  = exchange_rate['rate']\n",
    "    return result\n",
    "\n",
    "def print_exchange_rate(asset_1, asset_2):\n",
    "    global api\n",
    "    exchange_rate   = api.exchange_rates_get_specific_rate(asset_1, asset_2)\n",
    "    print('Time:  %s' % exchange_rate['time'])\n",
    "    print('Base:  %s' % exchange_rate['asset_id_base'])\n",
    "    print('Quote: %s' % exchange_rate['asset_id_quote'])\n",
    "    print('Rate:  %s' % exchange_rate['rate'])\n",
    "    print('\\n')\n",
    "\n",
    "def print_exchange_rate(asset_1, asset_2, date_time):\n",
    "    global api\n",
    "    date_time_iso   = date_time.isoformat()\n",
    "    result = {}\n",
    "    exchange_rate   = api.exchange_rates_get_specific_rate(asset_1, asset_2, {'time' : date_time_iso})\n",
    "    print('Time:  %s' % exchange_rate['time'])\n",
    "    print('Base:  %s' % exchange_rate['asset_id_base'])\n",
    "    print('Quote: %s' % exchange_rate['asset_id_quote'])\n",
    "    print('Rate:  %s' % exchange_rate['rate'])\n",
    "    print('\\n')\n",
    "\n",
    "def print_periodes():\n",
    "    global periods\n",
    "    for period in periods:\n",
    "        print('ID: %s' % period['period_id'])\n",
    "        print('Seconds: %s' % period['length_seconds'])\n",
    "        print('Months: %s' % period['length_months'])\n",
    "        print('Unit count: %s' % period['unit_count'])\n",
    "        print('Unit name: %s' % period['unit_name'])\n",
    "        print('Display name: %s' % period['display_name'])\n",
    "        print('\\n')\n",
    "    \n",
    "def current_rates():\n",
    "    current_rates = api.exchange_rates_get_all_current_rates('BTC')\n",
    "    return current_rates\n",
    "\n",
    "def print_current_rates():\n",
    "    current_rates = api.exchange_rates_get_all_current_rates('BTC')\n",
    "    print(\"Asset ID Base: %s\" % current_rates['asset_id_base'])\n",
    "    for rate in current_rates['rates']:\n",
    "        print('Time: %s' % rate['time'])\n",
    "        print('Quote: %s' % rate['asset_id_quote'])\n",
    "        print('Rate: %s' % rate['rate'])\n",
    "        print('\\n')\n",
    "\n",
    "def ohlcv_latest():\n",
    "    ohlcv_latest = api.ohlcv_latest_data('BITSTAMP_SPOT_BTC_USD', {'period_id': '1MIN'})\n",
    "    return ohlcv_latest\n",
    "\n",
    "def print_ohlcv_latest():\n",
    "    ohlcv_latest = api.ohlcv_latest_data('BITSTAMP_SPOT_BTC_USD', {'period_id': '1MIN'})\n",
    "    for period in ohlcv_latest:\n",
    "        print('Period start: %s' % period['time_period_start'])\n",
    "        print('Period end: %s' % period['time_period_end'])\n",
    "        print('Time open: %s' % period['time_open'])\n",
    "        print('Time close: %s' % period['time_close'])\n",
    "        print('Price open: %s' % period['price_open'])\n",
    "        print('Price close: %s' % period['price_close'])\n",
    "        print('Price low: %s' % period['price_low'])\n",
    "        print('Price high: %s' % period['price_high'])\n",
    "        print('Volume traded: %s' % period['volume_traded'])\n",
    "        print('Trades count: %s' % period['trades_count'])\n",
    "        print('\\n')\n",
    "\n",
    "def btc_ohlcv_historical(_time_start, _period_id):\n",
    "    '''returns historical value of the bitcoin for _period_id starting from _time_start\n",
    "    @params\n",
    "    _period_id      string\n",
    "    _time_start     datetime.datetime \n",
    "\n",
    "    @return\n",
    "    dictionary containing ohlcv data\n",
    "    '''\n",
    "    global api\n",
    "    _time_start_iso         = _time_start.isoformat()\n",
    "    return api.ohlcv_historical_data('BITSTAMP_SPOT_BTC_USD', {'period_id': _period_id, 'time_start': _time_start_iso})\n",
    "\n",
    "def btc_ohlcv_historical(_time_start, _period_id):\n",
    "    '''returns historical value of the bitcoin for _period_id starting from _time_start\n",
    "    @params\n",
    "    _period_id      string\n",
    "    _time_start     datetime.datetime \n",
    "\n",
    "    @return\n",
    "    void\n",
    "    '''\n",
    "    global api\n",
    "    _time_start_iso         = _time_start.isoformat()\n",
    "    ohlcv_historical = api.ohlcv_historical_data('BITSTAMP_SPOT_BTC_USD', {'period_id': _period_id, 'time_start': _time_start_iso})\n",
    "    for period in ohlcv_historical:\n",
    "        print('Period start: %s' % period['time_period_start'])\n",
    "        print('Period end: %s' % period['time_period_end'])\n",
    "        print('Time open: %s' % period['time_open'])\n",
    "        print('Time close: %s' % period['time_close'])\n",
    "        print('Price open: %s' % period['price_open'])\n",
    "        print('Price close: %s' % period['price_close'])\n",
    "        print('Price low: %s' % period['price_low'])\n",
    "        print('Price high: %s' % period['price_high'])\n",
    "        print('Volume traded: %s' % period['volume_traded'])\n",
    "        print('\\n')\n",
    "\n",
    "def latest_trades():\n",
    "    global api\n",
    "    return api.trades_latest_data_all()\n",
    "\n",
    "def print_latest_trades():\n",
    "    global api\n",
    "    latest_trades = api.trades_latest_data_all()\n",
    "    for data in latest_trades:\n",
    "        print('Symbol ID: %s' % data['symbol_id'])\n",
    "        print('Time Exchange: %s' % data['time_exchange'])\n",
    "        print('Time CoinAPI: %s' % data['time_coinapi'])\n",
    "        \n",
    "        print('UUID: %s' % data['uuid'])\n",
    "        print('Price: %s' % data['price'])\n",
    "        print('Size: %s' % data['size'])\n",
    "        print('Taker Side: %s' % data['taker_side'])\n",
    "        print('\\n')\n",
    "\n",
    "        # exchange_rate function should be tested in many ways before proceeding."
   ]
  },
  {
   "cell_type": "code",
   "execution_count": null,
   "metadata": {},
   "outputs": [],
   "source": [
    "\n"
   ]
  },
  {
   "cell_type": "code",
   "execution_count": 2,
   "metadata": {
    "scrolled": true
   },
   "outputs": [
    {
     "name": "stdout",
     "output_type": "stream",
     "text": [
      "Time:  2017-05-27T23:59:59.9904809Z\n",
      "Base:  BTC\n",
      "Quote: USD\n",
      "Rate:  2046.3885042387099\n"
     ]
    }
   ],
   "source": [
    "last_week               = date(2017, 5, 28).isoformat()\n",
    "exchange_rate_last_week = api.exchange_rates_get_specific_rate('BTC', 'USD', {'time': last_week})\n",
    "print('Time:  %s' % exchange_rate_last_week['time'])\n",
    "print('Base:  %s' % exchange_rate_last_week['asset_id_base'])\n",
    "print('Quote: %s' % exchange_rate_last_week['asset_id_quote'])\n",
    "print('Rate:  %s' % exchange_rate_last_week['rate'])"
   ]
  },
  {
   "cell_type": "code",
   "execution_count": 3,
   "metadata": {},
   "outputs": [
    {
     "data": {
      "text/plain": [
       "{'asset_id_base': 'BTC',\n",
       " 'asset_id_quote': 'USD',\n",
       " 'rate': 2145.513849823015,\n",
       " 'time': '2017-05-26T23:59:59.9740000Z'}"
      ]
     },
     "execution_count": 3,
     "metadata": {},
     "output_type": "execute_result"
    }
   ],
   "source": [
    "exchange_rate_last_week = api.exchange_rates_get_specific_rate('BTC', 'USD', {'time': date(2017, 5, 27).isoformat()})\n",
    "exchange_rate_last_week"
   ]
  },
  {
   "cell_type": "code",
   "execution_count": 6,
   "metadata": {
    "scrolled": true
   },
   "outputs": [
    {
     "data": {
      "text/plain": [
       "2145.513849823015"
      ]
     },
     "execution_count": 6,
     "metadata": {},
     "output_type": "execute_result"
    }
   ],
   "source": [
    "def exchange_rate(date, asset_1, asset_2):\n",
    "    return api.exchange_rates_get_specific_rate(str(asset_1), str(asset_2), {'time': date.isoformat()})['rate']\n",
    "\n",
    "exchange_rate(date(2017,5,27), 'BTC', 'USD')"
   ]
  },
  {
   "cell_type": "code",
   "execution_count": 10,
   "metadata": {},
   "outputs": [
    {
     "data": {
      "text/plain": [
       "{'asset_id_base': 'BTC',\n",
       " 'asset_id_quote': 'USD',\n",
       " 'rate': 2145.513849823015,\n",
       " 'time': '2017-05-26T23:59:59.9740000Z'}"
      ]
     },
     "execution_count": 10,
     "metadata": {},
     "output_type": "execute_result"
    }
   ],
   "source": [
    "def base_exchange_rate_from_date_obj(date):\n",
    "    return api.exchange_rates_get_specific_rate('BTC', 'USD', {'time': date.isoformat()})\n",
    "\n",
    "base_exchange_rate_from_date_obj(date(2017,5,27))"
   ]
  },
  {
   "cell_type": "code",
   "execution_count": 11,
   "metadata": {},
   "outputs": [
    {
     "name": "stdout",
     "output_type": "stream",
     "text": [
      "[2145.513849823015, 2145.513849823015, 2145.513849823015, 2145.513849823015, 2145.513849823015, 2145.513849823015, 2145.513849823015, 2145.513849823015, 2145.513849823015, 2145.513849823015, 2145.513849823015, 2145.513849823015, 2145.513849823015, 2145.513849823015, 2145.513849823015, 2145.513849823015, 2145.513849823015, 2145.513849823015, 2145.513849823015, 2145.513849823015, 2145.513849823015, 2145.513849823015, 2145.513849823015, 2145.513849823015, 2145.513849823015, 2145.513849823015, 2145.513849823015, 2145.513849823015, 2145.513849823015]\n"
     ]
    }
   ],
   "source": [
    "# create \n",
    "\n",
    "bfr_1 = []\n",
    "\n",
    "for ii in range(1,30):\n",
    "    base_exchange_rate_from_date_obj(date(2017,5,27))['rate']\n",
    "    bfr_1.append(base_exchange_rate_from_date_obj(date(2017,5,27))['rate'])\n",
    "    \n",
    "print(bfr_1)"
   ]
  },
  {
   "cell_type": "code",
   "execution_count": 12,
   "metadata": {},
   "outputs": [
    {
     "data": {
      "image/png": "[encoded data removed]",
      "text/plain": [
       "<Figure size 432x288 with 1 Axes>"
      ]
     },
     "metadata": {},
     "output_type": "display_data"
    }
   ],
   "source": [
    "# plot this \n",
    "import matplotlib.pyplot as plt\n",
    "\n",
    "plt.plot(bfr_1[0:29],'ko')\n",
    "plt.ylabel('some numbers')\n",
    "plt.show()"
   ]
  },
  {
   "cell_type": "code",
   "execution_count": null,
   "metadata": {},
   "outputs": [],
   "source": []
  },
  {
   "cell_type": "code",
   "execution_count": 127,
   "metadata": {},
   "outputs": [
    {
     "data": {
      "text/plain": [
       "str"
      ]
     },
     "execution_count": 127,
     "metadata": {},
     "output_type": "execute_result"
    }
   ],
   "source": [
    "type(last_week)"
   ]
  },
  {
   "cell_type": "code",
   "execution_count": 128,
   "metadata": {},
   "outputs": [
    {
     "data": {
      "text/plain": [
       "dict"
      ]
     },
     "execution_count": 128,
     "metadata": {},
     "output_type": "execute_result"
    }
   ],
   "source": [
    "type(exchange_rate_last_week)"
   ]
  },
  {
   "cell_type": "code",
   "execution_count": 131,
   "metadata": {},
   "outputs": [
    {
     "data": {
      "text/plain": [
       "{'asset_id_base': 'BTC',\n",
       " 'asset_id_quote': 'USD',\n",
       " 'rate': 2145.513849823015,\n",
       " 'time': '2017-05-26T23:59:59.9740000Z'}"
      ]
     },
     "execution_count": 131,
     "metadata": {},
     "output_type": "execute_result"
    }
   ],
   "source": [
    "exchange_rate_last_week"
   ]
  },
  {
   "cell_type": "code",
   "execution_count": null,
   "metadata": {},
   "outputs": [],
   "source": []
  },
  {
   "cell_type": "code",
   "execution_count": null,
   "metadata": {},
   "outputs": [],
   "source": []
  },
  {
   "cell_type": "code",
   "execution_count": null,
   "metadata": {},
   "outputs": [],
   "source": []
  },
  {
   "cell_type": "code",
   "execution_count": 13,
   "metadata": {},
   "outputs": [
    {
     "name": "stdout",
     "output_type": "stream",
     "text": [
      "Time:  2017-05-13T23:59:59.9470000Z\n",
      "Base:  BTC\n",
      "Quote: USD\n",
      "Rate:  1679.2886272789947\n"
     ]
    }
   ],
   "source": [
    "last_week               = date(2017, 5, 14).isoformat()\n",
    "exchange_rate_last_week = api.exchange_rates_get_specific_rate('BTC', 'USD', {'time': last_week})\n",
    "print('Time:  %s' % exchange_rate_last_week['time'])\n",
    "print('Base:  %s' % exchange_rate_last_week['asset_id_base'])\n",
    "print('Quote: %s' % exchange_rate_last_week['asset_id_quote'])\n",
    "print('Rate:  %s' % exchange_rate_last_week['rate'])"
   ]
  },
  {
   "cell_type": "code",
   "execution_count": 14,
   "metadata": {},
   "outputs": [],
   "source": [
    "\n",
    "last_week               = date(2017, 5, 14).isoformat()\n",
    "exchange_rate_last_week = api.exchange_rates_get_specific_rate('BTC', 'USD', {'time': last_week})\n"
   ]
  },
  {
   "cell_type": "code",
   "execution_count": 15,
   "metadata": {},
   "outputs": [],
   "source": [
    "\n",
    "\n",
    "\n",
    "\n",
    "\n",
    "a = date(2017, 5, 14).isoformat()\n",
    "b = api.exchange_rates_get_specific_rate('BTC', 'USD', {'time': a})\n",
    "\n",
    "    \n",
    "    "
   ]
  },
  {
   "cell_type": "code",
   "execution_count": null,
   "metadata": {},
   "outputs": [],
   "source": []
  },
  {
   "cell_type": "code",
   "execution_count": null,
   "metadata": {},
   "outputs": [],
   "source": []
  },
  {
   "cell_type": "code",
   "execution_count": null,
   "metadata": {},
   "outputs": [],
   "source": []
  },
  {
   "cell_type": "code",
   "execution_count": null,
   "metadata": {},
   "outputs": [],
   "source": []
  },
  {
   "cell_type": "code",
   "execution_count": 17,
   "metadata": {},
   "outputs": [
    {
     "ename": "NameError",
     "evalue": "name 'btc_usd_m' is not defined",
     "output_type": "error",
     "traceback": [
      "\u001b[0;31m---------------------------------------------------------------------------\u001b[0m",
      "\u001b[0;31mNameError\u001b[0m                                 Traceback (most recent call last)",
      "\u001b[0;32m<ipython-input-17-344ffc2989c9>\u001b[0m in \u001b[0;36m<module>\u001b[0;34m()\u001b[0m\n\u001b[1;32m      8\u001b[0m     \u001b[0mbtc_usd_mouth\u001b[0m\u001b[0;34m.\u001b[0m\u001b[0mappend\u001b[0m\u001b[0;34m(\u001b[0m\u001b[0;34m(\u001b[0m\u001b[0mdate_obj\u001b[0m\u001b[0;34m,\u001b[0m \u001b[0mexchange_rate_obj\u001b[0m\u001b[0;34m[\u001b[0m\u001b[0;34m'rate'\u001b[0m\u001b[0;34m]\u001b[0m\u001b[0;34m)\u001b[0m\u001b[0;34m)\u001b[0m\u001b[0;34m\u001b[0m\u001b[0m\n\u001b[1;32m      9\u001b[0m \u001b[0;34m\u001b[0m\u001b[0m\n\u001b[0;32m---> 10\u001b[0;31m \u001b[0mprint\u001b[0m\u001b[0;34m(\u001b[0m\u001b[0mbtc_usd_m\u001b[0m\u001b[0;34m)\u001b[0m\u001b[0;34m\u001b[0m\u001b[0m\n\u001b[0m",
      "\u001b[0;31mNameError\u001b[0m: name 'btc_usd_m' is not defined"
     ]
    }
   ],
   "source": [
    "# implementing sampled intervals:\n",
    "\n",
    "btc_usd_mouth = []\n",
    "\n",
    "for ii in range(0, 30):\n",
    "    date_obj          = (date.today() - timedelta(ii)).isoformat()\n",
    "    exchange_rate_obj = api.exchange_rates_get_specific_rate('BTC', 'USD', {'time': date_obj})\n",
    "    btc_usd_mouth.append((date_obj, exchange_rate_obj['rate']))\n",
    "\n",
    "print(btc_usd_m)"
   ]
  },
  {
   "cell_type": "code",
   "execution_count": 12,
   "metadata": {},
   "outputs": [
    {
     "data": {
      "text/plain": [
       "[('2018-03-18',\n",
       "  {'asset_id_base': 'BTC',\n",
       "   'asset_id_quote': 'USD',\n",
       "   'rate': 7846.912039724317,\n",
       "   'time': '2018-03-17T23:59:59.9258816Z'}),\n",
       " ('2018-03-17',\n",
       "  {'asset_id_base': 'BTC',\n",
       "   'asset_id_quote': 'USD',\n",
       "   'rate': 8256.870172632724,\n",
       "   'time': '2018-03-16T23:59:59.9643486Z'}),\n",
       " ('2018-03-16',\n",
       "  {'asset_id_base': 'BTC',\n",
       "   'asset_id_quote': 'USD',\n",
       "   'rate': 8254.012479959814,\n",
       "   'time': '2018-03-15T23:59:59.9759496Z'}),\n",
       " ('2018-03-15',\n",
       "  {'asset_id_base': 'BTC',\n",
       "   'asset_id_quote': 'USD',\n",
       "   'rate': 8189.717319633707,\n",
       "   'time': '2018-03-14T23:59:59.9633654Z'}),\n",
       " ('2018-03-14',\n",
       "  {'asset_id_base': 'BTC',\n",
       "   'asset_id_quote': 'USD',\n",
       "   'rate': 9138.838164128503,\n",
       "   'time': '2018-03-13T23:59:59.9879925Z'}),\n",
       " ('2018-03-13',\n",
       "  {'asset_id_base': 'BTC',\n",
       "   'asset_id_quote': 'USD',\n",
       "   'rate': 9126.219278522949,\n",
       "   'time': '2018-03-12T23:59:59.9411440Z'}),\n",
       " ('2018-03-12',\n",
       "  {'asset_id_base': 'BTC',\n",
       "   'asset_id_quote': 'USD',\n",
       "   'rate': 9529.105127140332,\n",
       "   'time': '2018-03-11T23:59:59.9691606Z'}),\n",
       " ('2018-03-11',\n",
       "  {'asset_id_base': 'BTC',\n",
       "   'asset_id_quote': 'USD',\n",
       "   'rate': 8780.027726405817,\n",
       "   'time': '2018-03-10T23:59:59.6308998Z'}),\n",
       " ('2018-03-10',\n",
       "  {'asset_id_base': 'BTC',\n",
       "   'asset_id_quote': 'USD',\n",
       "   'rate': 9275.753269126419,\n",
       "   'time': '2018-03-09T23:59:59.9277527Z'}),\n",
       " ('2018-03-09',\n",
       "  {'asset_id_base': 'BTC',\n",
       "   'asset_id_quote': 'USD',\n",
       "   'rate': 9298.677680114293,\n",
       "   'time': '2018-03-08T23:59:59.9317950Z'}),\n",
       " ('2018-03-08',\n",
       "  {'asset_id_base': 'BTC',\n",
       "   'asset_id_quote': 'USD',\n",
       "   'rate': 9914.225320687145,\n",
       "   'time': '2018-03-07T23:59:59.9073772Z'}),\n",
       " ('2018-03-07',\n",
       "  {'asset_id_base': 'BTC',\n",
       "   'asset_id_quote': 'USD',\n",
       "   'rate': 10715.31792758374,\n",
       "   'time': '2018-03-06T23:59:59.7745045Z'}),\n",
       " ('2018-03-06',\n",
       "  {'asset_id_base': 'BTC',\n",
       "   'asset_id_quote': 'USD',\n",
       "   'rate': 11399.036056193836,\n",
       "   'time': '2018-03-05T23:59:59.6912438Z'}),\n",
       " ('2018-03-05',\n",
       "  {'asset_id_base': 'BTC',\n",
       "   'asset_id_quote': 'USD',\n",
       "   'rate': 11492.000704301985,\n",
       "   'time': '2018-03-04T23:59:59.9834315Z'}),\n",
       " ('2018-03-04',\n",
       "  {'asset_id_base': 'BTC',\n",
       "   'asset_id_quote': 'USD',\n",
       "   'rate': 11447.152557412795,\n",
       "   'time': '2018-03-03T23:59:59.8701690Z'}),\n",
       " ('2018-03-03',\n",
       "  {'asset_id_base': 'BTC',\n",
       "   'asset_id_quote': 'USD',\n",
       "   'rate': 11018.679038532631,\n",
       "   'time': '2018-03-02T23:59:59.1264515Z'}),\n",
       " ('2018-03-02',\n",
       "  {'asset_id_base': 'BTC',\n",
       "   'asset_id_quote': 'USD',\n",
       "   'rate': 10912.442501852602,\n",
       "   'time': '2018-03-01T23:59:59.5346451Z'}),\n",
       " ('2018-03-01',\n",
       "  {'asset_id_base': 'BTC',\n",
       "   'asset_id_quote': 'USD',\n",
       "   'rate': 10312.715066153894,\n",
       "   'time': '2018-02-28T23:59:58.5466993Z'}),\n",
       " ('2018-02-28',\n",
       "  {'asset_id_base': 'BTC',\n",
       "   'asset_id_quote': 'USD',\n",
       "   'rate': 10572.385770616798,\n",
       "   'time': '2018-02-27T23:59:59.8498262Z'}),\n",
       " ('2018-02-27',\n",
       "  {'asset_id_base': 'BTC',\n",
       "   'asset_id_quote': 'USD',\n",
       "   'rate': 10316.679646108842,\n",
       "   'time': '2018-02-26T23:59:59.7396881Z'}),\n",
       " ('2018-02-26',\n",
       "  {'asset_id_base': 'BTC',\n",
       "   'asset_id_quote': 'USD',\n",
       "   'rate': 9587.186383096227,\n",
       "   'time': '2018-02-25T23:59:59.9144005Z'}),\n",
       " ('2018-02-25',\n",
       "  {'asset_id_base': 'BTC',\n",
       "   'asset_id_quote': 'USD',\n",
       "   'rate': 9674.888644317836,\n",
       "   'time': '2018-02-24T23:59:59.9177594Z'}),\n",
       " ('2018-02-24',\n",
       "  {'asset_id_base': 'BTC',\n",
       "   'asset_id_quote': 'USD',\n",
       "   'rate': 10146.195621227898,\n",
       "   'time': '2018-02-23T23:59:59.7910209Z'}),\n",
       " ('2018-02-23',\n",
       "  {'asset_id_base': 'BTC',\n",
       "   'asset_id_quote': 'USD',\n",
       "   'rate': 9829.792910966236,\n",
       "   'time': '2018-02-22T23:59:59.8253252Z'}),\n",
       " ('2018-02-22',\n",
       "  {'asset_id_base': 'BTC',\n",
       "   'asset_id_quote': 'USD',\n",
       "   'rate': 10451.303005619737,\n",
       "   'time': '2018-02-21T23:59:59.9341048Z'}),\n",
       " ('2018-02-21',\n",
       "  {'asset_id_base': 'BTC',\n",
       "   'asset_id_quote': 'USD',\n",
       "   'rate': 11219.610045596482,\n",
       "   'time': '2018-02-20T23:59:59.9754142Z'}),\n",
       " ('2018-02-20',\n",
       "  {'asset_id_base': 'BTC',\n",
       "   'asset_id_quote': 'USD',\n",
       "   'rate': 11163.858644051266,\n",
       "   'time': '2018-02-19T23:59:59.9841291Z'}),\n",
       " ('2018-02-19',\n",
       "  {'asset_id_base': 'BTC',\n",
       "   'asset_id_quote': 'USD',\n",
       "   'rate': 10393.58808140532,\n",
       "   'time': '2018-02-18T23:59:59.9908148Z'}),\n",
       " ('2018-02-18',\n",
       "  {'asset_id_base': 'BTC',\n",
       "   'asset_id_quote': 'USD',\n",
       "   'rate': 11078.920678593684,\n",
       "   'time': '2018-02-17T23:59:59.9917893Z'}),\n",
       " ('2018-02-17',\n",
       "  {'asset_id_base': 'BTC',\n",
       "   'asset_id_quote': 'USD',\n",
       "   'rate': 10169.035009430285,\n",
       "   'time': '2018-02-16T23:59:59.9974609Z'})]"
      ]
     },
     "execution_count": 12,
     "metadata": {},
     "output_type": "execute_result"
    }
   ],
   "source": [
    "btc_usd_mouth"
   ]
  },
  {
   "cell_type": "code",
   "execution_count": 5,
   "metadata": {},
   "outputs": [],
   "source": [
    "api       = CoinAPIv1(test_key)"
   ]
  },
  {
   "cell_type": "code",
   "execution_count": 7,
   "metadata": {},
   "outputs": [
    {
     "data": {
      "text/plain": [
       "<coinapi_v1.CoinAPIv1 at 0x7f7a481c52e8>"
      ]
     },
     "execution_count": 7,
     "metadata": {},
     "output_type": "execute_result"
    }
   ],
   "source": [
    "api"
   ]
  },
  {
   "cell_type": "code",
   "execution_count": 8,
   "metadata": {},
   "outputs": [],
   "source": [
    "from datetime import date\n",
    "from datetime import datetime\n",
    "from datetime import timedelta\n",
    "\n",
    "date__today       = date.today()\n",
    "datetime__now     = datetime.now()\n",
    "date__today_iso   = date__today.isoformat()\n",
    "datetime__now_iso = datetime__now.isoformat()\n",
    "\n",
    "date__today\n",
    "date__yesterday       = date__today - timedelta(1)\n",
    "date__two_days_ago    = date__today - timedelta(2)\n",
    "date__three_days_ago  = date__today - timedelta(3)\n",
    "date__four_days_ago   = date__today - timedelta(4)\n",
    "date__five_days_ago   = date__today - timedelta(5)\n",
    "date__six_days_ago    = date__today - timedelta(6)\n",
    "date__week_ago        = date__today - timedelta(7)\n",
    "date__mounth_ago      = date__today - timedelta(30)\n",
    "\n",
    "datetime__now             = datetime.now()\n",
    "datetime__yesterday       = datetime__now - timedelta(1)\n",
    "datetime__two_days_ago    = datetime__now - timedelta(2)\n",
    "datetime__three_days_ago  = datetime__now - timedelta(3)\n",
    "datetime__four_days_ago   = datetime__now - timedelta(4)\n",
    "datetime__five_days_ago   = datetime__now - timedelta(5)\n",
    "datetime__six_days_ago    = datetime__now - timedelta(6)\n",
    "datetime__week_ago        = datetime__now - timedelta(7)\n",
    "datetime__mounth_ago      = datetime__now - timedelta(30)\n",
    "\n",
    "datetime__hour_ago         = datetime__now - timedelta(hours = 1)\n",
    "datetime__two_hours_ago    = datetime__now - timedelta(hours = 2)\n",
    "datetime__three_hours_ago  = datetime__now - timedelta(hours = 3)\n",
    "datetime__six_hours_ago    = datetime__now - timedelta(hours = 6)\n",
    "datetime__twelve_hours_ago = datetime__now - timedelta(hours = 12)"
   ]
  },
  {
   "cell_type": "code",
   "execution_count": null,
   "metadata": {},
   "outputs": [],
   "source": []
  },
  {
   "cell_type": "code",
   "execution_count": null,
   "metadata": {},
   "outputs": [],
   "source": []
  },
  {
   "cell_type": "code",
   "execution_count": null,
   "metadata": {},
   "outputs": [],
   "source": []
  },
  {
   "cell_type": "code",
   "execution_count": null,
   "metadata": {},
   "outputs": [],
   "source": []
  },
  {
   "cell_type": "code",
   "execution_count": null,
   "metadata": {},
   "outputs": [],
   "source": []
  },
  {
   "cell_type": "code",
   "execution_count": null,
   "metadata": {},
   "outputs": [],
   "source": []
  },
  {
   "cell_type": "code",
   "execution_count": null,
   "metadata": {},
   "outputs": [],
   "source": []
  },
  {
   "cell_type": "code",
   "execution_count": null,
   "metadata": {},
   "outputs": [],
   "source": []
  },
  {
   "cell_type": "code",
   "execution_count": null,
   "metadata": {},
   "outputs": [],
   "source": []
  },
  {
   "cell_type": "code",
   "execution_count": null,
   "metadata": {},
   "outputs": [],
   "source": []
  },
  {
   "cell_type": "code",
   "execution_count": null,
   "metadata": {},
   "outputs": [],
   "source": []
  },
  {
   "cell_type": "code",
   "execution_count": null,
   "metadata": {},
   "outputs": [],
   "source": []
  },
  {
   "cell_type": "code",
   "execution_count": null,
   "metadata": {},
   "outputs": [],
   "source": []
  },
  {
   "cell_type": "code",
   "execution_count": null,
   "metadata": {},
   "outputs": [],
   "source": []
  },
  {
   "cell_type": "code",
   "execution_count": null,
   "metadata": {},
   "outputs": [],
   "source": []
  },
  {
   "cell_type": "code",
   "execution_count": null,
   "metadata": {},
   "outputs": [],
   "source": []
  },
  {
   "cell_type": "code",
   "execution_count": null,
   "metadata": {},
   "outputs": [],
   "source": []
  },
  {
   "cell_type": "code",
   "execution_count": null,
   "metadata": {},
   "outputs": [],
   "source": []
  },
  {
   "cell_type": "code",
   "execution_count": null,
   "metadata": {},
   "outputs": [],
   "source": []
  },
  {
   "cell_type": "code",
   "execution_count": null,
   "metadata": {},
   "outputs": [],
   "source": []
  },
  {
   "cell_type": "code",
   "execution_count": null,
   "metadata": {},
   "outputs": [],
   "source": []
  },
  {
   "cell_type": "code",
   "execution_count": null,
   "metadata": {},
   "outputs": [],
   "source": []
  },
  {
   "cell_type": "code",
   "execution_count": null,
   "metadata": {},
   "outputs": [],
   "source": []
  },
  {
   "cell_type": "code",
   "execution_count": null,
   "metadata": {},
   "outputs": [],
   "source": []
  },
  {
   "cell_type": "code",
   "execution_count": null,
   "metadata": {},
   "outputs": [],
   "source": []
  },
  {
   "cell_type": "code",
   "execution_count": null,
   "metadata": {},
   "outputs": [],
   "source": []
  },
  {
   "cell_type": "code",
   "execution_count": null,
   "metadata": {},
   "outputs": [],
   "source": []
  },
  {
   "cell_type": "code",
   "execution_count": null,
   "metadata": {},
   "outputs": [],
   "source": []
  },
  {
   "cell_type": "code",
   "execution_count": null,
   "metadata": {},
   "outputs": [],
   "source": []
  },
  {
   "cell_type": "code",
   "execution_count": null,
   "metadata": {},
   "outputs": [],
   "source": []
  },
  {
   "cell_type": "code",
   "execution_count": null,
   "metadata": {},
   "outputs": [],
   "source": []
  },
  {
   "cell_type": "code",
   "execution_count": null,
   "metadata": {},
   "outputs": [],
   "source": []
  },
  {
   "cell_type": "code",
   "execution_count": null,
   "metadata": {},
   "outputs": [],
   "source": []
  },
  {
   "cell_type": "code",
   "execution_count": null,
   "metadata": {},
   "outputs": [],
   "source": []
  },
  {
   "cell_type": "code",
   "execution_count": null,
   "metadata": {},
   "outputs": [],
   "source": []
  },
  {
   "cell_type": "code",
   "execution_count": null,
   "metadata": {},
   "outputs": [],
   "source": []
  },
  {
   "cell_type": "code",
   "execution_count": null,
   "metadata": {},
   "outputs": [],
   "source": []
  }
 ],
 "metadata": {
  "kernelspec": {
   "display_name": "Python 3",
   "language": "python",
   "name": "python3"
  },
  "language_info": {
   "codemirror_mode": {
    "name": "ipython",
    "version": 3
   },
   "file_extension": ".py",
   "mimetype": "text/x-python",
   "name": "python",
   "nbconvert_exporter": "python",
   "pygments_lexer": "ipython3",
   "version": "3.6.3"
  }
 },
 "nbformat": 4,
 "nbformat_minor": 2
}
