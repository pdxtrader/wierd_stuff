{
 "cells": [
  {
   "cell_type": "code",
   "execution_count": 180,
   "metadata": {},
   "outputs": [],
   "source": [
    "from    coinapi_v1 import CoinAPIv1\n",
    "import  datetime\n",
    "from    datetime  import date\n",
    "from    datetime  import datetime\n",
    "from    datetime  import timedelta\n",
    "from    tqdm      import tqdm\n",
    "\n",
    "test_key      =  'B77ED0B6-F44D-4186-A6BB-5AB92FAA3793'\n",
    "\n",
    "start_of_2015              = date(2015, 1, 1)\n",
    "start_of_2016              = date(2016, 1, 1)\n",
    "start_of_2017              = date(2017, 1, 1)\n",
    "start_of_2018              = date(2018, 1, 1)\n",
    "datetime__now              = datetime.now()\n",
    "datetime__now_iso          = datetime__now.isoformat()\n",
    "date__today                = date.today()\n",
    "date__today_iso            = date__today.isoformat()\n",
    "date__yesterday            = date__today - timedelta(1)\n",
    "date__two_days_ago         = date__today - timedelta(2)\n",
    "date__three_days_ago       = date__today - timedelta(3)\n",
    "date__four_days_ago        = date__today - timedelta(4)\n",
    "date__five_days_ago        = date__today - timedelta(5)\n",
    "date__six_days_ago         = date__today - timedelta(6)\n",
    "date__week_ago             = date__today - timedelta(7)\n",
    "date__mounth_ago           = date__today - timedelta(30)\n",
    "datetime__now              = datetime.now()\n",
    "datetime__yesterday        = datetime__now - timedelta(1)\n",
    "datetime__two_days_ago     = datetime__now - timedelta(2)\n",
    "datetime__three_days_ago   = datetime__now - timedelta(3)\n",
    "datetime__four_days_ago    = datetime__now - timedelta(4)\n",
    "datetime__five_days_ago    = datetime__now - timedelta(5)\n",
    "datetime__six_days_ago     = datetime__now - timedelta(6)\n",
    "datetime__week_ago         = datetime__now - timedelta(7)\n",
    "datetime__mounth_ago       = datetime__now - timedelta(30)\n",
    "datetime__hour_ago         = datetime__now - timedelta(hours = 1)\n",
    "datetime__two_hours_ago    = datetime__now - timedelta(hours = 2)\n",
    "datetime__three_hours_ago  = datetime__now - timedelta(hours = 3)\n",
    "datetime__six_hours_ago    = datetime__now - timedelta(hours = 6)\n",
    "datetime__twelve_hours_ago = datetime__now - timedelta(hours = 12)\n",
    "\n",
    "def update_time():\n",
    "    global datetime__now             \n",
    "    global datetime__now_iso          \n",
    "    global date__today                \n",
    "    global date__today_iso            \n",
    "    global date__today\n",
    "    global date__yesterday            \n",
    "    global date__two_days_ago         \n",
    "    global date__three_days_ago      \n",
    "    global date__four_days_ago      \n",
    "    global date__five_days_ago      \n",
    "    global date__six_days_ago       \n",
    "    global date__week_ago           \n",
    "    global date__mounth_ago       \n",
    "    global datetime__now           \n",
    "    global datetime__yesterday       \n",
    "    global datetime__two_days_ago     \n",
    "    global datetime__three_days_ago  \n",
    "    global datetime__four_days_ago   \n",
    "    global datetime__five_days_ago  \n",
    "    global datetime__six_days_ago    \n",
    "    global datetime__week_ago        \n",
    "    global datetime__mounth_ago    \n",
    "    global datetime__hour_ago         \n",
    "    global datetime__two_hours_ago  \n",
    "    global datetime__three_hours_ago \n",
    "    global datetime__six_hours_ago   \n",
    "    global datetime__twelve_hours_ago    \n",
    "    for ii in tqdm(range(0,28), desc='[Updating time related variables        ]'):\n",
    "        if ii == 0:\n",
    "            datetime__now              = datetime.now()\n",
    "        elif ii == 1:\n",
    "            datetime__now_iso          = datetime__now.isoformat()\n",
    "        elif ii == 2:\n",
    "            datetime__now_iso          = datetime__now.isoformat()       \n",
    "        elif ii == 3:\n",
    "            datetime__now_iso          = datetime__now.isoformat()\n",
    "        elif ii == 4:\n",
    "             date__today                = date.today()\n",
    "        elif ii == 5:\n",
    "            date__today_iso            = date__today.isoformat()\n",
    "        elif ii == 6:\n",
    "            date__yesterday            = date__today - timedelta(1)\n",
    "        elif ii == 7:\n",
    "            date__two_days_ago         = date__today - timedelta(2) \n",
    "        elif ii == 8:\n",
    "            date__three_days_ago       = date__today - timedelta(3)\n",
    "        elif ii == 9:\n",
    "            date__four_days_ago        = date__today - timedelta(4)\n",
    "        elif ii == 10:\n",
    "            date__five_days_ago        = date__today - timedelta(5)\n",
    "        elif ii == 11:\n",
    "            date__six_days_ago         = date__today - timedelta(6)\n",
    "        elif ii == 12:\n",
    "            date__week_ago             = date__today - timedelta(7)\n",
    "        elif ii == 13:\n",
    "            date__mounth_ago           = date__today - timedelta(30)\n",
    "        elif ii == 14:\n",
    "            datetime__now              = datetime.now()\n",
    "        elif ii == 15:\n",
    "            datetime__yesterday        = datetime__now - timedelta(1)\n",
    "        elif ii == 16:\n",
    "            datetime__two_days_ago     = datetime__now - timedelta(2)\n",
    "        elif ii == 17:\n",
    "            datetime__three_days_ago   = datetime__now - timedelta(3)\n",
    "        elif ii == 18:\n",
    "            datetime__four_days_ago    = datetime__now - timedelta(4)\n",
    "        elif ii == 19:\n",
    "            datetime__five_days_ago    = datetime__now - timedelta(5)\n",
    "        elif ii == 20:\n",
    "            datetime__six_days_ago     = datetime__now - timedelta(6)\n",
    "        elif ii == 21:\n",
    "            datetime__week_ago         = datetime__now - timedelta(7)\n",
    "        elif ii == 22:\n",
    "            datetime__mounth_ago       = datetime__now - timedelta(30)\n",
    "        elif ii == 23:\n",
    "            datetime__hour_ago         = datetime__now - timedelta(hours = 1)\n",
    "        elif ii == 24:\n",
    "            datetime__two_hours_ago    = datetime__now - timedelta(hours = 2)\n",
    "        elif ii == 25:\n",
    "            datetime__three_hours_ago  = datetime__now - timedelta(hours = 3)\n",
    "        elif ii == 26:\n",
    "            datetime__six_hours_ago    = datetime__now - timedelta(hours = 6)\n",
    "        elif ii == 27:\n",
    "            datetime__twelve_hours_ago = datetime__now - timedelta(hours = 12)    \n",
    "   \n",
    "api           = None\n",
    "exchanges     = None\n",
    "assets        = None\n",
    "symbols       = None\n",
    "periods       = None\n",
    "        \n",
    "def update_coinapi():\n",
    "    global api \n",
    "    global exchanges\n",
    "    global assets\n",
    "    global symbols\n",
    "    global periods\n",
    "    for ii in tqdm(range(0, 5),desc = '[Updating Meta Data from Coinapi        ]' ):    \n",
    "        if ii == 0:\n",
    "            api           = CoinAPIv1(test_key)\n",
    "        elif ii == 1:\n",
    "            exchanges     = api.metadata_list_exchanges()\n",
    "        elif ii == 2:\n",
    "            assets        = api.metadata_list_assets()\n",
    "        elif ii == 3:\n",
    "            symbols       = api.metadata_list_symbols()\n",
    "        elif ii == 4:\n",
    "            periods       = api.ohlcv_list_all_periods()\n",
    "\n",
    "asset_ids    = []\n",
    "exchange_ids = []\n",
    "symbol_ids   = []\n",
    "period_ids   = []\n",
    "\n",
    "def update_ids():\n",
    "    global asset_ids\n",
    "    global exchange_ids\n",
    "    global symbol_ids\n",
    "    global period_ids\n",
    "    for ii in tqdm(range(0, 4), desc=  '[Updating _ids variables                ]'):\n",
    "        if ii == 0:\n",
    "            for asset in assets:\n",
    "                asset_ids.append(asset['asset_id'])\n",
    "        if ii == 1:\n",
    "            for exchange in exchanges:\n",
    "                exchange_ids.append(exchange['exchange_id'])\n",
    "        if ii == 2:\n",
    "            for symbol in symbols:\n",
    "                symbol_ids.append(symbol['symbol_id'])\n",
    "        if ii == 3:\n",
    "            for period in periods:\n",
    "                period_ids.append(period['period_id'])\n",
    "                \n",
    "def update_all():\n",
    "    for ii in tqdm(range(0, 3),desc = '[Updating all                           ]' ):    \n",
    "        if ii == 0:\n",
    "            update_coinapi()\n",
    "        elif ii == 1:\n",
    "            update_time()\n",
    "        elif ii == 3:\n",
    "            update_ids()"
   ]
  },
  {
   "cell_type": "code",
   "execution_count": 181,
   "metadata": {},
   "outputs": [
    {
     "name": "stderr",
     "output_type": "stream",
     "text": [
      "[Updating time related variables        ]: 100%|██████████| 28/28 [00:00<00:00, 134679.49it/s]"
     ]
    },
    {
     "name": "stdout",
     "output_type": "stream",
     "text": [
      "2018-03-24 19:28:03.598258  2018-03-24 16:28:03.598258\n"
     ]
    },
    {
     "name": "stderr",
     "output_type": "stream",
     "text": [
      "\n"
     ]
    }
   ],
   "source": [
    "update_time()\n",
    "print(str(datetime__now) + '  '  + str(datetime__three_hours_ago))"
   ]
  },
  {
   "cell_type": "code",
   "execution_count": 182,
   "metadata": {},
   "outputs": [
    {
     "name": "stderr",
     "output_type": "stream",
     "text": [
      "[Updating Meta Data from Coinapi        ]: 100%|██████████| 5/5 [00:06<00:00,  1.39s/it]\n"
     ]
    }
   ],
   "source": [
    "update_coinapi()"
   ]
  },
  {
   "cell_type": "code",
   "execution_count": 183,
   "metadata": {},
   "outputs": [
    {
     "name": "stderr",
     "output_type": "stream",
     "text": [
      "[Updating Meta Data from Coinapi        ]: 100%|██████████| 5/5 [00:06<00:00,  1.29s/it]\n",
      "[Updating time related variables        ]: 100%|██████████| 28/28 [00:00<00:00, 43224.33it/s]\n"
     ]
    }
   ],
   "source": [
    "update_coinapi()\n",
    "update_time()"
   ]
  },
  {
   "cell_type": "code",
   "execution_count": 184,
   "metadata": {},
   "outputs": [
    {
     "name": "stderr",
     "output_type": "stream",
     "text": [
      "[Updating _ids variables                ]: 100%|██████████| 4/4 [00:00<00:00, 1018.41it/s]\n"
     ]
    }
   ],
   "source": [
    "update_ids()"
   ]
  },
  {
   "cell_type": "code",
   "execution_count": 185,
   "metadata": {
    "scrolled": true
   },
   "outputs": [
    {
     "name": "stderr",
     "output_type": "stream",
     "text": [
      "[Updating all                           ]:   0%|          | 0/3 [00:00<?, ?it/s]\n",
      "[Updating Meta Data from Coinapi        ]:   0%|          | 0/5 [00:00<?, ?it/s]\u001b[A\n",
      "[Updating Meta Data from Coinapi        ]:  40%|████      | 2/5 [00:00<00:00,  4.82it/s]\u001b[A\n",
      "[Updating Meta Data from Coinapi        ]:  60%|██████    | 3/5 [00:01<00:00,  2.47it/s]\u001b[A\n",
      "[Updating Meta Data from Coinapi        ]:  80%|████████  | 4/5 [00:05<00:01,  1.37s/it]\u001b[A\n",
      "[Updating Meta Data from Coinapi        ]: 100%|██████████| 5/5 [00:06<00:00,  1.23s/it]\u001b[A\n",
      "[Updating all                           ]:  33%|███▎      | 1/3 [00:06<00:12,  6.16s/it]\n",
      "[Updating time related variables        ]:   0%|          | 0/28 [00:00<?, ?it/s]\u001b[A\n",
      "[Updating all                           ]: 100%|██████████| 3/3 [00:06<00:00,  2.06s/it]it/s]\u001b[A\n"
     ]
    }
   ],
   "source": [
    "update_all()"
   ]
  },
  {
   "cell_type": "code",
   "execution_count": 154,
   "metadata": {},
   "outputs": [],
   "source": []
  },
  {
   "cell_type": "code",
   "execution_count": 158,
   "metadata": {},
   "outputs": [
    {
     "name": "stderr",
     "output_type": "stream",
     "text": [
      "[Updating _ids variable]: 100%|██████████| 4/4 [00:00<00:00, 1119.15it/s]\n"
     ]
    }
   ],
   "source": []
  }
 ],
 "metadata": {
  "kernelspec": {
   "display_name": "Python 3",
   "language": "python",
   "name": "python3"
  },
  "language_info": {
   "codemirror_mode": {
    "name": "ipython",
    "version": 3
   },
   "file_extension": ".py",
   "mimetype": "text/x-python",
   "name": "python",
   "nbconvert_exporter": "python",
   "pygments_lexer": "ipython3",
   "version": "3.6.3"
  }
 },
 "nbformat": 4,
 "nbformat_minor": 2
}
