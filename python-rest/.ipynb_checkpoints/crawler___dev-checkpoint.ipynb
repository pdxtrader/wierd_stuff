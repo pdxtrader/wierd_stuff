{
 "cells": [
  {
   "cell_type": "code",
   "execution_count": null,
   "metadata": {},
   "outputs": [],
   "source": [
    "from    coinapi_v1 import CoinAPIv1\n",
    "import  datetime\n",
    "\n",
    "test_key =  'DFC28861-D035-41E6-AE27-5CBCF871416E'\n",
    "\n",
    "def coinapi_init():\n",
    "    global test_key\n",
    "    api = CoinAPIv1(test_key)\n",
    "    print('\\n-->coinapi initiated.')\n",
    "    \n",
    "    \n"
   ]
  }
 ],
 "metadata": {
  "kernelspec": {
   "display_name": "Python 3",
   "language": "python",
   "name": "python3"
  },
  "language_info": {
   "codemirror_mode": {
    "name": "ipython",
    "version": 3
   },
   "file_extension": ".py",
   "mimetype": "text/x-python",
   "name": "python",
   "nbconvert_exporter": "python",
   "pygments_lexer": "ipython3",
   "version": "3.6.3"
  }
 },
 "nbformat": 4,
 "nbformat_minor": 2
}
