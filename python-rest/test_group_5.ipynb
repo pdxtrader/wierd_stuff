{
 "cells": [
  {
   "cell_type": "code",
   "execution_count": 1,
   "metadata": {},
   "outputs": [],
   "source": [
    "from    coinapi_v1 import CoinAPIv1\n",
    "import  datetime\n",
    "from    datetime  import date\n",
    "from    datetime  import datetime\n",
    "from    datetime  import timedelta\n",
    "from    tqdm      import tqdm\n",
    "\n",
    "test_key      =  'B77ED0B6-F44D-4186-A6BB-5AB92FAA3793'\n",
    "\n",
    "start_of_2015              = date(2015, 1, 1)\n",
    "start_of_2016              = date(2016, 1, 1)\n",
    "start_of_2017              = date(2017, 1, 1)\n",
    "start_of_2018              = date(2018, 1, 1)\n",
    "datetime__now              = datetime.now()\n",
    "datetime__now_iso          = datetime__now.isoformat()\n",
    "date__today                = date.today()\n",
    "date__today_iso            = date__today.isoformat()\n",
    "date__yesterday            = date__today - timedelta(1)\n",
    "date__two_days_ago         = date__today - timedelta(2)\n",
    "date__three_days_ago       = date__today - timedelta(3)\n",
    "date__four_days_ago        = date__today - timedelta(4)\n",
    "date__five_days_ago        = date__today - timedelta(5)\n",
    "date__six_days_ago         = date__today - timedelta(6)\n",
    "date__week_ago             = date__today - timedelta(7)\n",
    "date__mounth_ago           = date__today - timedelta(30)\n",
    "datetime__now              = datetime.now()\n",
    "datetime__yesterday        = datetime__now - timedelta(1)\n",
    "datetime__two_days_ago     = datetime__now - timedelta(2)\n",
    "datetime__three_days_ago   = datetime__now - timedelta(3)\n",
    "datetime__four_days_ago    = datetime__now - timedelta(4)\n",
    "datetime__five_days_ago    = datetime__now - timedelta(5)\n",
    "datetime__six_days_ago     = datetime__now - timedelta(6)\n",
    "datetime__week_ago         = datetime__now - timedelta(7)\n",
    "datetime__mounth_ago       = datetime__now - timedelta(30)\n",
    "datetime__hour_ago         = datetime__now - timedelta(hours = 1)\n",
    "datetime__two_hours_ago    = datetime__now - timedelta(hours = 2)\n",
    "datetime__three_hours_ago  = datetime__now - timedelta(hours = 3)\n",
    "datetime__six_hours_ago    = datetime__now - timedelta(hours = 6)\n",
    "datetime__twelve_hours_ago = datetime__now - timedelta(hours = 12)\n",
    "\n",
    "def update_time():\n",
    "    global datetime__now             \n",
    "    global datetime__now_iso          \n",
    "    global date__today                \n",
    "    global date__today_iso            \n",
    "    global date__today\n",
    "    global date__yesterday            \n",
    "    global date__two_days_ago         \n",
    "    global date__three_days_ago      \n",
    "    global date__four_days_ago      \n",
    "    global date__five_days_ago      \n",
    "    global date__six_days_ago       \n",
    "    global date__week_ago           \n",
    "    global date__mounth_ago       \n",
    "    global datetime__now           \n",
    "    global datetime__yesterday       \n",
    "    global datetime__two_days_ago     \n",
    "    global datetime__three_days_ago  \n",
    "    global datetime__four_days_ago   \n",
    "    global datetime__five_days_ago  \n",
    "    global datetime__six_days_ago    \n",
    "    global datetime__week_ago        \n",
    "    global datetime__mounth_ago    \n",
    "    global datetime__hour_ago         \n",
    "    global datetime__two_hours_ago  \n",
    "    global datetime__three_hours_ago \n",
    "    global datetime__six_hours_ago   \n",
    "    global datetime__twelve_hours_ago    \n",
    "    for ii in tqdm(range(0,28), desc='[Updating time related variables        ]'):\n",
    "        if ii == 0:\n",
    "            datetime__now              = datetime.now()\n",
    "        elif ii == 1:\n",
    "            datetime__now_iso          = datetime__now.isoformat()\n",
    "        elif ii == 2:\n",
    "            datetime__now_iso          = datetime__now.isoformat()       \n",
    "        elif ii == 3:\n",
    "            datetime__now_iso          = datetime__now.isoformat()\n",
    "        elif ii == 4:\n",
    "             date__today                = date.today()\n",
    "        elif ii == 5:\n",
    "            date__today_iso            = date__today.isoformat()\n",
    "        elif ii == 6:\n",
    "            date__yesterday            = date__today - timedelta(1)\n",
    "        elif ii == 7:\n",
    "            date__two_days_ago         = date__today - timedelta(2) \n",
    "        elif ii == 8:\n",
    "            date__three_days_ago       = date__today - timedelta(3)\n",
    "        elif ii == 9:\n",
    "            date__four_days_ago        = date__today - timedelta(4)\n",
    "        elif ii == 10:\n",
    "            date__five_days_ago        = date__today - timedelta(5)\n",
    "        elif ii == 11:\n",
    "            date__six_days_ago         = date__today - timedelta(6)\n",
    "        elif ii == 12:\n",
    "            date__week_ago             = date__today - timedelta(7)\n",
    "        elif ii == 13:\n",
    "            date__mounth_ago           = date__today - timedelta(30)\n",
    "        elif ii == 14:\n",
    "            datetime__now              = datetime.now()\n",
    "        elif ii == 15:\n",
    "            datetime__yesterday        = datetime__now - timedelta(1)\n",
    "        elif ii == 16:\n",
    "            datetime__two_days_ago     = datetime__now - timedelta(2)\n",
    "        elif ii == 17:\n",
    "            datetime__three_days_ago   = datetime__now - timedelta(3)\n",
    "        elif ii == 18:\n",
    "            datetime__four_days_ago    = datetime__now - timedelta(4)\n",
    "        elif ii == 19:\n",
    "            datetime__five_days_ago    = datetime__now - timedelta(5)\n",
    "        elif ii == 20:\n",
    "            datetime__six_days_ago     = datetime__now - timedelta(6)\n",
    "        elif ii == 21:\n",
    "            datetime__week_ago         = datetime__now - timedelta(7)\n",
    "        elif ii == 22:\n",
    "            datetime__mounth_ago       = datetime__now - timedelta(30)\n",
    "        elif ii == 23:\n",
    "            datetime__hour_ago         = datetime__now - timedelta(hours = 1)\n",
    "        elif ii == 24:\n",
    "            datetime__two_hours_ago    = datetime__now - timedelta(hours = 2)\n",
    "        elif ii == 25:\n",
    "            datetime__three_hours_ago  = datetime__now - timedelta(hours = 3)\n",
    "        elif ii == 26:\n",
    "            datetime__six_hours_ago    = datetime__now - timedelta(hours = 6)\n",
    "        elif ii == 27:\n",
    "            datetime__twelve_hours_ago = datetime__now - timedelta(hours = 12)    \n",
    "   \n",
    "api           = None\n",
    "exchanges     = None\n",
    "assets        = None\n",
    "symbols       = None\n",
    "periods       = None\n",
    "        \n",
    "def update_coinapi():\n",
    "    global api \n",
    "    global exchanges\n",
    "    global assets\n",
    "    global symbols\n",
    "    global periods\n",
    "    for ii in tqdm(range(0, 5),desc = '[Updating Meta Data from Coinapi        ]' ):    \n",
    "        if ii == 0:\n",
    "            api           = CoinAPIv1(test_key)\n",
    "        elif ii == 1:\n",
    "            exchanges     = api.metadata_list_exchanges()\n",
    "        elif ii == 2:\n",
    "            assets        = api.metadata_list_assets()\n",
    "        elif ii == 3:\n",
    "            symbols       = api.metadata_list_symbols()\n",
    "        elif ii == 4:\n",
    "            periods       = api.ohlcv_list_all_periods()\n",
    "\n",
    "asset_ids    = []\n",
    "exchange_ids = []\n",
    "symbol_ids   = []\n",
    "period_ids   = []\n",
    "\n",
    "def update_ids():\n",
    "    global asset_ids\n",
    "    global exchange_ids\n",
    "    global symbol_ids\n",
    "    global period_ids\n",
    "    for ii in tqdm(range(0, 4), desc=  '[Updating _ids variables                ]'):\n",
    "        if ii == 0:\n",
    "            for asset in assets:\n",
    "                asset_ids.append(asset['asset_id'])\n",
    "        if ii == 1:\n",
    "            for exchange in exchanges:\n",
    "                exchange_ids.append(exchange['exchange_id'])\n",
    "        if ii == 2:\n",
    "            for symbol in symbols:\n",
    "                symbol_ids.append(symbol['symbol_id'])\n",
    "        if ii == 3:\n",
    "            for period in periods:\n",
    "                period_ids.append(period['period_id'])\n",
    "                \n",
    "def update_all():\n",
    "    for ii in tqdm(range(0, 3),desc = '[Updating all                           ]' ):    \n",
    "        if ii == 0:\n",
    "            update_coinapi()\n",
    "        elif ii == 1:\n",
    "            update_time()\n",
    "        elif ii == 3:\n",
    "            update_ids()"
   ]
  },
  {
   "cell_type": "code",
   "execution_count": 2,
   "metadata": {},
   "outputs": [
    {
     "name": "stderr",
     "output_type": "stream",
     "text": [
      "[Updating all                           ]:   0%|          | 0/3 [00:00<?, ?it/s]\n",
      "[Updating Meta Data from Coinapi        ]:   0%|          | 0/5 [00:00<?, ?it/s]\u001b[A\n",
      "[Updating Meta Data from Coinapi        ]:  40%|████      | 2/5 [00:00<00:00,  4.89it/s]\u001b[A\n",
      "[Updating Meta Data from Coinapi        ]:  60%|██████    | 3/5 [00:01<00:01,  1.80it/s]\u001b[A\n",
      "[Updating Meta Data from Coinapi        ]:  80%|████████  | 4/5 [00:08<00:02,  2.11s/it]\u001b[A\n",
      "[Updating Meta Data from Coinapi        ]: 100%|██████████| 5/5 [00:08<00:00,  1.74s/it]\u001b[A\n",
      "[Updating all                           ]:  33%|███▎      | 1/3 [00:08<00:17,  8.72s/it]\n",
      "[Updating time related variables        ]:   0%|          | 0/28 [00:00<?, ?it/s]\u001b[A\n",
      "[Updating all                           ]: 100%|██████████| 3/3 [00:08<00:00,  2.91s/it]it/s]\u001b[A\n"
     ]
    }
   ],
   "source": [
    "update_all()"
   ]
  },
  {
   "cell_type": "code",
   "execution_count": 5,
   "metadata": {},
   "outputs": [
    {
     "name": "stdout",
     "output_type": "stream",
     "text": [
      "2018-03-24 20:12:27.308616  2018-03-24 17:12:27.308616\n",
      "[]\n",
      "2018-03-24 20:12:27.308616\n",
      "<coinapi_v1.CoinAPIv1 object at 0x7ff068dd3208>\n"
     ]
    }
   ],
   "source": [
    "print(str(datetime__now) + '  '  + str(datetime__three_hours_ago))\n",
    "print(asset_ids)\n",
    "print(datetime__now) \n",
    "print(api)"
   ]
  },
  {
   "cell_type": "code",
   "execution_count": 10,
   "metadata": {},
   "outputs": [
    {
     "data": {
      "text/plain": [
       "['OKCOIN_CNY',\n",
       " 'BITTREX',\n",
       " 'POLONIEX',\n",
       " 'BITFINEX',\n",
       " 'COINBASE',\n",
       " 'KRAKEN',\n",
       " 'BTCCHINA',\n",
       " 'BITSTAMP',\n",
       " 'OKCOIN_USD',\n",
       " 'BTCTRADE',\n",
       " 'GEMINI',\n",
       " 'ITBIT',\n",
       " 'HUOBI',\n",
       " 'BINANCE',\n",
       " 'HITBTC',\n",
       " 'BITHUMB',\n",
       " 'HUOBIPRO',\n",
       " 'BTC-E',\n",
       " 'COINONE',\n",
       " 'COINCHECK',\n",
       " 'CRYPTOPIA',\n",
       " 'LIQUI',\n",
       " 'EXMO',\n",
       " 'OKEX',\n",
       " 'CHBTC',\n",
       " 'YOBIT',\n",
       " 'BITFLYER',\n",
       " 'KORBIT',\n",
       " 'ZAIF',\n",
       " 'JUBI',\n",
       " 'BTC38',\n",
       " 'BITMEX',\n",
       " 'GATEIO',\n",
       " 'MTGOX',\n",
       " 'WEXNZ',\n",
       " 'LAKEBTC',\n",
       " 'BLEUTRADE',\n",
       " 'KUCOIN',\n",
       " 'BITCOINID',\n",
       " 'QUOINE',\n",
       " 'ACX',\n",
       " 'BITSO',\n",
       " 'TIDEX',\n",
       " 'LIVECOIN',\n",
       " 'MIXCOINS',\n",
       " 'BTER',\n",
       " 'VIRWOX',\n",
       " 'MERCADOBITCOIN',\n",
       " 'THEROCKTRADING',\n",
       " 'CEXIO',\n",
       " 'DERIBIT',\n",
       " 'CCEX',\n",
       " 'QUADRIGACX',\n",
       " 'BITMARKET',\n",
       " 'COINNEST',\n",
       " 'LUNO',\n",
       " 'BTCMARKETS',\n",
       " 'QRYPTOS',\n",
       " 'VAULTORO',\n",
       " 'GATECOIN',\n",
       " 'BXINTH',\n",
       " 'ALLCOIN',\n",
       " 'COINMATE',\n",
       " 'BTCBOX',\n",
       " 'INDEPENDENTRESERVE',\n",
       " 'BTCTURK',\n",
       " 'COINFLOOR',\n",
       " 'DSX',\n",
       " 'ABUCOINS',\n",
       " 'SOUTHXCHANGE',\n",
       " 'BTCTRADEUA',\n",
       " 'BTCX',\n",
       " 'KUNA',\n",
       " 'FYBSG',\n",
       " 'BRAZILIEX',\n",
       " 'YUNBI',\n",
       " 'BITKONAN',\n",
       " 'FYBSE',\n",
       " 'BTCC',\n",
       " 'COINGI',\n",
       " '1BTCXE',\n",
       " 'NOVA',\n",
       " 'BITLISH',\n",
       " 'COINSECURE',\n",
       " 'BITBAY',\n",
       " 'VBTC',\n",
       " 'XBTCE',\n",
       " 'COINEXCHANGE',\n",
       " 'ANXPRO',\n",
       " 'LYKKE']"
      ]
     },
     "execution_count": 10,
     "metadata": {},
     "output_type": "execute_result"
    }
   ],
   "source": [
    "exchange_ids"
   ]
  },
  {
   "cell_type": "code",
   "execution_count": 9,
   "metadata": {},
   "outputs": [
    {
     "name": "stderr",
     "output_type": "stream",
     "text": [
      "[Updating Meta Data from Coinapi        ]: 100%|██████████| 5/5 [00:08<00:00,  1.65s/it]\n"
     ]
    }
   ],
   "source": [
    "update_coinapi()"
   ]
  },
  {
   "cell_type": "code",
   "execution_count": 8,
   "metadata": {},
   "outputs": [
    {
     "name": "stderr",
     "output_type": "stream",
     "text": [
      "[Updating Meta Data from Coinapi        ]: 100%|██████████| 5/5 [00:09<00:00,  1.94s/it]\n",
      "[Updating time related variables        ]: 100%|██████████| 28/28 [00:00<00:00, 50884.10it/s]\n"
     ]
    }
   ],
   "source": [
    "update_coinapi()\n",
    "update_time()"
   ]
  },
  {
   "cell_type": "code",
   "execution_count": 7,
   "metadata": {},
   "outputs": [
    {
     "name": "stderr",
     "output_type": "stream",
     "text": [
      "[Updating _ids variables                ]: 100%|██████████| 4/4 [00:00<00:00, 1147.94it/s]"
     ]
    },
    {
     "name": "stdout",
     "output_type": "stream",
     "text": [
      "['BTC', 'CNY', 'ETH', 'LTC', 'USD', 'USDT', 'KRW', 'XRP', 'EUR', 'JPY', 'ETC', 'BCH', 'XMR', 'NEO', 'ZEC', 'EOS', 'DASH', 'TRX', 'IOTA', 'BNB', 'DOGE', 'QTUM', 'OMG', 'BCC', 'XVG', 'XLM', 'XEM', 'ADA', 'NXT', 'LSK', 'VEN', 'RUB', 'STR', 'STRAT', 'ICX', 'SC', 'BTS', 'RUR', 'DGB', 'BTG', 'ADX', 'GNT', 'WAVES', 'SNT', 'REP', 'AUD', 'HSR', 'MAID', 'DGD', 'PPC', 'NANO', 'ZRX', 'BAT', 'VTC', 'MCO', 'STEEM', 'GBP', 'DSH', 'BCN', 'CVC', 'IDR', 'PAY', 'EMC2', 'FCT', 'CND', 'POWR', 'VIB', 'XDN', 'SALT', 'POE', 'ICN', 'MANA', 'STORJ', 'ELF', 'FUN', 'IOST', 'SYS', 'RDD', 'NMC', 'ARK', 'RCN', 'NAV', 'MXN', 'BCD', 'MTL', 'WTC', 'LBC', 'GUP', 'EDG', 'BNT', 'DCR', 'BLK', 'TNB', 'CAD', 'ENG', 'POT', 'ARDR', 'BCPT', 'GAME', 'SLL', 'GTO', 'VIA', 'TNT', 'GAS', 'BRL', 'UNO', 'KMD', 'LEND', 'REQ', 'NEBL', 'XZC', 'DNT', 'SNGLS', 'APPC', 'ZCL', 'BURST', 'QSP', 'GNO', 'NCASH', 'WINGS', 'KNC', 'PIVX', 'TRIG', 'LUN', 'AST', 'EXP', 'XTZ', 'SRN', 'LINK', 'QASH', 'MONA', 'EMC', 'OK', 'NVC', 'STX', 'SAN', 'AMP', 'OST', 'VRC', 'ANS', 'PLN', 'ETN', 'RLC', 'BTM', 'ETP', 'CLAM', 'SUB', 'VOX', 'CMT', 'ZIL', 'SNM', 'AION', 'ENJ', 'PTOY', 'DAT', 'EBTC', 'LRC', 'BLZ', 'GLD', 'EDO', 'CDT', 'GVT', 'GRS', 'CFI', 'BQX', 'BMC', 'BAY', 'FLDC', 'SBD', '1ST', 'NAS', 'INS', 'EVX', 'AIDOC', 'RPX', 'ONT', 'RISE', 'NXS', 'CTR', 'ANT', 'PPT', 'NET', 'CHAT', 'UAH', 'HT', 'AE', 'XCP', 'RDN', 'ARN', 'TRST', 'MYST', 'THETA', 'MLN', 'SOC', 'ITC', 'ZEN', 'XPM', 'STORM', 'AMB', 'PINK', 'QRL', 'OCN', 'DCT', 'BTCD', 'WABI', 'SMT', 'NULS', 'FUEL', 'DTA', 'OMNI', 'HMQ', 'GRC', 'NEOS', 'UBQ', 'FLO', 'RUFF', 'IOP', 'SNC', 'FTC', 'NXC', 'BITB', 'ZAR', 'DBC', 'DLT', 'OAX', 'BRD', 'MOD', 'SWFTC', 'MTH', 'QUN', 'YOYOW', 'XVC', 'NMR', 'DICE', 'RADS', 'MUSIC', 'MDS', 'PASC', 'EAC', 'IFC', 'TOPC', 'ACT', 'RRT', 'THC', 'BELA', 'IGNIS', 'WAX', 'UTK', 'TKN', 'XBC', 'ABT', 'XEL', 'ELA', 'IXT', 'CANN', 'PROPY', 'RIC', 'ADT', 'MSP', 'LET', 'GXS', 'WDC', 'GNX', 'TIX', 'KICK', 'NBT', 'BCY', 'PAC', 'SYNX', 'MEME', 'CLOAK', 'MUE', 'UNB', 'MEE', 'EKO', 'MGO', 'SLS', 'AIR', 'START', 'TIME', 'NAUT', 'MDA', 'LINDA', 'GBYTE', 'AVT', 'SJCX', 'ZET', 'XMY', 'THB', 'ION', 'LMC', 'KORE', 'R', 'AMM', 'ZRC', 'PRG', 'SGD', 'YEE', 'ZCC', 'EBST', 'XAS', 'BSD', 'VIBE', 'PRO', 'NLG', 'WPR', 'TAAS', 'RBY', 'SIB', 'NOTE', 'HLB', 'WRC', 'TX', 'SAFEX', 'MER', 'POA', 'DOPE', 'PRA', 'MTN', 'GEO', 'B2X', 'XMG', 'LGD', 'ABY', 'NDC', 'XBY', 'SHIFT', 'TRY', 'SLR', 'AEON', 'AGRS', 'UBTC', 'SPHR', 'MTX', 'SWT', 'ORME', 'PLC', 'HUC', 'STK', 'SPR', 'BLOCK', 'LKC', 'QWARK', 'DCN', 'SDC', 'MYR', 'GCR', 'LDC', 'DENT', 'PART', 'IOC', 'LUX', 'DOT', 'BET', 'BTX', 'DAO', 'EFL', 'PKB', 'EXCL', 'CLUB', 'EGC', 'KCS', 'HUSH', 'COVAL', 'CWXT', 'MINT', 'VASH', 'PRL', 'SUR', 'MEC', 'FAIR', 'BBR', 'XST', 'DGC', 'BTA', 'CZK', 'DPY', 'UKG', 'CRB', 'XWC', 'VRM', 'DRGN', 'LA', 'AUR', 'ZLA', 'DYN', 'CURE', 'PTC', 'ADC', 'HVN', 'MGC', 'XUC', 'INCNT', 'SMART', 'INFX', 'CPC', 'HTML5', 'W3C', 'DMD', 'CRW', 'XCN', 'TRUST', 'POSW', 'DIME', 'PLR', 'TNC', 'OC', 'GBG', 'ERC', 'DFT', 'IND', '1337', 'GBX', 'XSPEC', 'MAX', 'CDN', 'HKD', 'MOON', 'BLITZ', 'MOF', 'SBTC', 'GTC', 'XID', 'ENRG', 'CAPP', '2GIVE', 'DTB', 'SMLY', 'DBIX', 'SWIFT', 'DRK', 'NGN', 'TOKEN', 'BRK', 'FJC', 'XAUR', 'ONION', 'SKY', 'VEE', 'SNRG', 'VTR', 'PDC', 'NLC2', 'PIRL', 'SUMO', 'STU', 'QTL', 'HYP', 'B3', 'MLM', 'GOLOS', 'BT2', 'CAT', 'QRK', 'BCX', 'NYC', 'TKS', 'TDX', 'BSTY', 'HTML', 'INK', 'ACE', 'PND', 'EMB', 'AGI', 'PEPECASH', 'QLC', 'INT', 'CJ', 'VOISE', 'VIDZ', 'NGC', 'BWK', 'TSL', 'OF', 'TRC', 'VSL', 'ZOI', 'DAR', 'AVH', 'NOBL', 'XVP', 'DP', 'TRUMP', 'MED', 'KRB', 'UNIT', 'SLG', 'LDOGE', 'MCAP', 'SEQ', 'BYC', 'C2', 'BUN', 'POLL', 'ZER', 'RBT', 'CMPCO', 'GB', 'BTCA', 'SEC', 'BRX', 'SHOW', 'CHSB', 'APX', 'NEU', 'XPD', 'SXC', 'PAK', 'CHC', 'FCN', 'PBT', 'TAG', 'SBC', 'TROLL', 'DNA', 'BFX', 'TIO', 'BTU', 'TTC', 'PHR', 'JNT', 'RFR', 'CL', 'TEL', 'GCN', 'ZEIT', 'ODN', 'DIM', 'SSC', 'IFT', 'NSR', 'CRC', 'ADST', 'KBR', 'INN', 'FLASH', 'LBTC', 'PIGGY', 'LIGHT', 'POP', 'MZC', 'BAR', 'WC', 'PHO', 'TBX', 'CAN', 'SAGA', 'CBX', 'RC', 'HMC', 'FST', 'MDT', 'COSS', 'SEND', 'KEY', 'SRC', 'ARC', '$PAC', 'AC', 'VIVO', 'BOLI', 'LCC', 'FOTA', 'TMC', 'RCT', 'WBB', 'BTCS', 'AAC', 'DRACO', 'DEM', 'TES', 'YBC', 'NYAN', 'UR', 'BTO', 'VOLT', 'PLU', 'ARG', 'VERI', '$$$', 'GAP', 'HST', 'BITS', 'RBBT', 'FRST', 'ORB', 'BEC', 'MOIN', 'ANI', 'STC', 'DPC', 'PROC', 'BEST', 'BCF', 'LANA', 'LEA', 'TRI', 'SKIN', 'TIT', 'BERN', 'TRUE', 'RED', 'GAM', '1CR', 'OPT', 'EVIL', 'BLC', 'UIS', 'LINX', 'DNR', 'EMD', 'PWR', 'KCASH', 'ERY', 'BOST', 'SMS', 'DADI', 'UNIC', 'CFC', 'ELLA', '8BIT', 'EUC', 'DDD', 'FUNK', 'TEK', 'cV', '808', 'FLAX', 'ICOB', 'UNY', 'BNTY', 'SPC', 'SONG', 'IDH', 'TOKC', 'OPC', 'EPC', 'SWING', 'SPANK', 'CCT', 'PBL', 'ARI', 'HAC', 'ECASH', 'ATM', 'CGA', 'BIP', 'SNOV', 'MCRN', 'CNO', 'TRK', 'ETHD', 'ECO', 'ZSC', 'XGOX', 'LOT', 'LEO', 'SLOTH', 'PLBT', 'SPK', 'REN', 'SMC', 'BTCRED', 'MEOW', 'YES', 'QORA', 'CS', 'ICOS', 'FRN', 'OTN', 'RKC', 'ATOM', 'INF', 'HXX', 'TOP', 'DUO', 'GEM', 'SJW', 'DIVX', 'IXC', 'OFF', 'GUN', 'NTRN', 'CPN', 'MARS', 'PING', 'CV2', 'HBN', 'AUTO', 'BOT', 'KURT', 'SOON', 'CAP', 'HZ', 'CEFS', 'LTCU', 'NMS', 'LIFE', 'BNX', 'CON', 'ARCO', 'XRA', 'BITGEM', 'QBT', 'HOLD', 'RKT', 'SPRTS', 'RHOC', 'FFC', 'QCN', 'HBC', 'BGR', 'MRT', 'BIS', 'LEPEN', 'EVR', 'IRL', 'DFS', 'XMCC', 'QBK', 'ALIS', 'POST', 'SEK', 'PST', 'LEAF', 'WISH', 'PXC', 'UFR', '42', 'DBET', 'FUZZ', 'BTB', 'XCT', 'CNT', 'SKR', 'CRX', 'MARX', 'SPT', 'SKC', 'UTC', 'IFLT', 'BVC', 'NEVA', 'VPRC', 'DAXX', 'BENJI', 'LOC', 'PR', 'BUCKS', 'EVO', 'QAU', 'I0C', 'LTB', 'XBB', 'WSX', 'ZPT', 'SHA', 'V', 'CAGE', 'ICO', 'MAC', 'DATA', 'BXC', 'REC', 'MONK', 'CORG', 'CHAO', 'NKA', 'MOTO', 'GDC', 'BCA', 'RUP', 'IMS', 'XJO', 'STN', 'RPC', 'UGC', 'SAK', 'MAR', 'MYB', 'BOB', '888', 'SFC', 'BOS', 'CAG', 'PUT', 'FLT', 'QBC', 'SPF', 'ACP', 'PASL', 'PHP', 'TZC', 'EDRC', 'TOK', 'RAIN', 'NTC', 'AMBER', 'GP', 'READ', 'ACOIN', 'USNBT', 'TGC', 'WCT', 'ELC', 'VIU', 'PXI', 'CLD', 'GPU', 'VISIO', 'PURA', 'STV', 'HOT', 'BIO', 'SETH', 'GPL', 'HPC', 'TAJ', 'XRE', 'CNC', 'MAGE', 'DRT', 'BUMBA', 'XCRE', 'CCN', 'CC', 'ONX', 'DAS', 'HAL', 'XLC', 'YOC', 'NZD', 'LCP', 'OPAL', 'XBTS', 'XHI', 'DCY', 'CSC', 'WILD', 'PHS', 'UNITS', 'GAIA', 'TOA', 'MNX', 'XGR', 'TAU', 'KOBO', 'CRM', 'SIGT', 'XRY', 'AU', 'DON', 'HKG', 'ECN', 'UNIFY', 'BON', 'LTBC', 'MOBI', 'ATL', 'ARGUS', 'VZT', 'TUSD', 'CHESS', 'MST', 'TER', 'COAL', 'RNT', 'KED', 'NTK', 'EDR', 'B2B', 'CXT', 'QVT', 'PCOIN', 'VUC', 'TSE', 'CARBON', 'FONZ', 'BCDN', 'GOD', 'FRC', 'KRONE', 'SPACE', 'ATB', 'EQT', 'ADZ', 'ESP', 'UNITY', 'MNE', 'CREA', 'IEC', 'LEV', 'TIPS', 'KUSH', 'ANTI', 'BDL', 'OX', 'ATS', 'XCXT', 'KARMA', 'TCOIN', 'ZENI', 'ZAP', 'RLT', 'GAY', 'MSD', 'OMC', 'XLR', 'ATMS', 'CUBE', 'LLT', 'AIX', 'AIT', 'AID', 'ICON', 'PIE', 'IETH', 'EVN', 'BITOK', 'ELS', 'POLY', 'TFL', 'KAYI', 'RNS', 'GRN', 'INSN', 'XCPO', 'ALL', 'NETKO', 'UET', 'HKN', 'CREVA', 'BRO', 'XPTX', 'HMP', 'RVT', 'IC', 'MNM', 'BAS', 'CNNC', 'MOT', 'TKY', 'BTCM', 'CFT', 'BUB', 'REF', 'BUZZ', 'KDC', 'MONETA', 'ANC', 'CME', 'SANDG', 'DEUS', 'INSANE', 'SDRN', 'DIEM', 'COV', 'TIC', 'CRAVE', 'IPC', 'TRCT', 'ELIX', 'VOYA', 'TIE', 'TCT', 'BITCNY', 'ELM', 'WOMEN', 'IPBC', 'MAY', 'SCORE', 'ATN', 'EB3', 'HC', 'CNX', 'GEERT', 'BKX', 'BPT', 'TODAY', 'BIOB', 'COFI', 'LEDU', 'ESC', 'ALTCOM', 'DGPT', 'Q2C', 'CBD', 'DRXNE', 'ADCN', 'MOJO', 'SYNC', 'NTO', 'DRPU', 'XCO', 'ELITE', 'MBRS', 'UNI', 'DRP', 'FLIXX', 'HEAT', 'SPHTX', 'MILO', 'SOUL', 'FIL', 'GRWI', 'BEZ', 'FYP', 'EL', 'SLFI', 'FAZZ', 'MKR', 'CCRB', 'NAMO', 'MAGN', 'ZSE', 'MAG', 'XBL', 'ELE', 'BTDX', 'SCL', 'XFT', 'VTL', 'AURS', 'DP2', 'ALT', 'VAL', 'PLX', 'SHELL', 'FIBRE', 'AIB', 'XIN', 'AV', '4CHN', 'ECOB', 'SHND', 'XIOS', 'BASH', 'DTR', 'UQC', 'CTX', 'FSN', 'ZNY', 'MAVRO', 'STRB', 'MSCN', 'DALC', 'PRE', 'JWL', 'NEWB', 'HCC', 'WGR', 'HDLB', 'HPB', 'CACH', 'DBTC', 'BTCR', 'PIX', 'HVCO', 'HDG', 'TKR', 'CAS', 'ROYAL', 'TELL', 'SISA', 'HGT', 'MXT', 'CHF', 'VRS', 'SCT', 'MVR', 'PRC', 'LTCR', 'DMC', 'WA', 'DDF', 'PTS', 'UTT', 'BT1', 'ACES', 'OCOW', 'RHFC', 'UGT', 'XTC', 'MCN', 'VLT', 'BOP', 'PRES', 'MMXVI', 'ENT', 'IPL', 'PLAY', '611', 'ZUR', 'APC', 'AMS', 'BTD', 'EGG', 'INR', 'ABC', 'XVS', 'USDE', 'CSNO', 'HTC', 'CTIC3', 'EXY', 'MWAT', 'SOIL', 'ECH', 'OPES', 'REM', 'EXN', 'CTIC2', 'NANOX', 'INPAY', 'MTNC', 'AXP', 'BLU', 'XRL', 'MINEX', 'UTNP', 'ERO', 'BBP', 'DLC', 'C20', 'RUBIT', 'BTCZ', 'TOR', 'ACAT', 'PURE', 'BPL', 'XPB', 'DPAY', 'BIGUP', 'ARCT', 'CESC', 'SWARM', 'FYN', 'CFUN', 'BDG', 'METAL', 'ITI', 'INDI', 'GLC', 'HNC', 'PRS', 'REE', 'HALLO', 'XVE', 'ASN', 'RIDE', 'MAD', 'GHS', '300', 'COR', 'PSY', 'WTT', 'DASHS', 'SFE', 'SKULL', 'SILK', 'SPEX', 'IQT', 'SH', 'PARETO', 'CHP', 'PAYP', 'RBX', 'ETHG', 'VTY', 'SLING', 'TGT', 'CXO', 'ROUND', 'PSB', 'ADN', 'CF', 'B@', 'PCS', 'WIC', 'YACC', 'OBITS', 'CPAY', 'PEX', 'OTX', 'BPC', 'KEK', 'XC', 'EMP', 'J', 'CMP', 'NTCC', 'ZYD', 'FLY', 'ETT', 'BCAP', 'RIYA', 'UCASH', 'BLAZR', 'MCI', 'DATX', 'MVC', 'TH1', 'PX', 'AI', 'XNG', 'SDP', 'TALK', 'BXT', 'DGCS', 'BSTAR', 'SHDW', 'RGC', 'LUNA', 'GRE', 'CONX', 'PLNC', 'ALTC', 'DESH', 'KLC', 'GSR', 'FOOT', 'MNTP', 'ADB', 'BIOS', 'SCS', 'TERA', 'STAR', 'FC2', 'THS', 'CRED', 'TLE', 'CAB', 'HODL', 'PRM', 'XCR', 'APW', 'DBG', 'MAO', 'WGO', 'JOBS', 'DIBC', 'VGC', 'GCC', 'BSC', 'PEPE', 'ZBC', 'KIN', 'MONEY', 'VEC2', 'STEPS', 'U', 'BQ', 'ING', 'LAZ', 'MMC', 'STA', 'POLIS', 'BIT', 'DAI', 'OCEAN', 'PRX', 'FUNC', 'EBET', 'XQN', 'BTQ', 'DMT', 'CPY', 'BBT', 'BITZ', 'NBIT', 'STRC', 'PKT', 'WINK', 'PIPL', 'LIR', 'OXY', 'NKC', 'RUPX', 'MRS', 'SOAR', 'BRAIN', 'LDCN', 'RICHX', 'PONZI', 'URC', 'TRICK', 'TRAC', 'ARY', 'FRD', 'KR', 'BEE', 'CRYPT', 'FIRE', 'GAT', 'CYP', 'ETHOS', 'FRWC', 'XUSD', 'XBTC21', 'XTO', 'SOCC', 'BLRY', 'USC', 'TP1', 'XPY', 'HLC', 'ISL', 'ZMC', 'PULSE', 'VIP', 'KASHH', 'CDX', 'BAC', 'HAT', 'SUPER', 'LOCI', 'DES', 'SPORT', 'ELI', 'WEX', 'DISK', 'RBIES', 'EOT', 'ART', 'GUESS', 'X2', 'BTCHC', 'TCR', 'QBIC', 'POKE', 'BITCF', 'PEN', 'ECC', 'CYC', 'ORLY', 'IMPS', 'UNRC', 'SIC', 'CFD', 'LQD', 'COXST', 'XDE2', 'BRE', '9COIN', 'VSM', 'VULC', 'CTO', 'ETBS', 'XRC', 'GUC', 'MND', 'DCRE', 'ATX', 'BAM', 'GBT', 'LOG', 'PRIMU', 'EGO', 'DLISK', 'ZBCN', 'PIZZA', 'SUP', 'FDX', 'GBC', 'ARB', 'CLINT', 'NIC', 'FUTC', '420G', 'ASAFE2', 'IBANK', 'YAC', 'TERI', 'STS', 'GRX', 'BSDB', 'CNMT', 'SHORTY', 'GCC24', 'UTA', 'BITUSD', 'VTA', 'URO', 'RSGP', 'GAIN', 'MEN', 'MTLMC3', 'ZNE', 'JNS', 'MBL', 'EPY', 'XOC', 'P7C', 'PRIX', 'PPY', 'DRM8', 'VET', 'DRM', 'INXT', 'OP', 'LVPS', 'LYM', 'MCR', 'AWR', 'BRIT', 'NODC', 'MAN', 'IVZ', 'TEAM', 'GBRC', 'OS76', 'GMX', 'DUB', 'HQX', 'MALC', 'DAY', 'LTH', 'AUM', 'YOG', 'MIU', 'UNC', 'WMC', 'LTT', 'VLTC', 'FNC', 'WARP', 'FRK', 'ELCO', 'EXC', 'DKK', 'BLN', 'RYCN', 'GARY', 'FLVR', 'GLTC', 'BURN', 'VSX', 'JIO', 'CALC', 'PNX', 'SCRT', 'AXIOM', 'EVC', 'MI', 'HAM', 'ARCH', 'TAGR', 'XAU', 'WAY', 'ERC3', 'QRZ', 'XSH', 'GUA', 'GML', 'ROBO', 'TESLA', 'NOX', 'CREDO', 'ROLC', 'MIX', 'RYZ', 'AHT', 'HILL', 'OPNC', 'ACN', 'BITRS', 'X2C', 'NOXT', 'DOLLAR', 'XOT', 'PIEX', 'EXE', 'KRC', 'BLUE', 'ABN', 'REV', 'ONG', 'COE', 'BHD', 'BRAT', 'DMB', 'BTXC', 'INSTAR', 'XCH', 'ADL', 'ETX', 'NOK', 'GEMZ', 'SIGMA', 'ICOBI', 'JET', 'GYC', 'ECON', 'RMC', 'IOU', 'EAG', 'KRS', 'MANNA', 'FID', 'PCSH', 'ILS', 'INDEX', 'BGN', 'AED', 'VAK', 'HUF', 'MUR', 'TOMO', 'HRK', 'RON', 'JS', 'SVC', 'PRIME', 'OCL', 'MG', 'MGM', 'EGOLD', 'EB3C', 'KIC', 'XDP', 'HIRO', 'JCSH', 'ICE', 'TFD', 'UIP', 'ELEC', 'CREAK', 'UB', 'XSTC', 'EFYT', 'CASHH', 'ZZC', 'GRT', 'DTC', 'PEC', 'MIL', 'SHIP', 'UNCT', 'DTH', 'EUSD', 'KZC', 'AVC', 'BQC', 'AKY', 'AMMO', 'ANTX', 'BCO', 'BIRDS', 'BLAS', 'BOAT', 'BRC', 'BSN', 'BSR', 'BTBc', 'BTE', 'BTPL', 'BUK', 'CHEAP', 'CHIPS', 'COUPE', 'CRDNC', 'CYDER', 'DAV', 'DRS', 'DSR', 'DUTCH', 'DVC', 'EBT', 'ECA', 'EQL', 'ERA', 'ETB', 'ETG', 'FAP', 'FLIK', 'FXE', 'GET', 'GLS', 'GLT', 'GMB', 'GOLF', 'GOOD', 'HIGH', 'HONEY', 'HYPER', 'IMX', 'INDIA', 'JIN', 'KB3', 'LCT', 'LEVO', 'LNK', 'LTG', 'LUC', 'NEOG', 'NRO', 'NUMUS', 'ORE', 'PCN', 'PDG', 'PGL', 'PLACO', 'POS', 'PRN', 'REGA', 'REX', 'ROC', 'ROOFS', 'RUNNERS', 'SGR', 'SLEVIN', 'STARS', 'TOPAZ', 'TSTR', 'TURBO', 'UFO', 'ULA', 'VC', 'WORM', 'WOW', 'WYV', 'XAG', 'XCS', 'XMRG', 'XP', 'XPT', 'XTD', 'ZCG']\n"
     ]
    },
    {
     "name": "stderr",
     "output_type": "stream",
     "text": [
      "\n"
     ]
    }
   ],
   "source": [
    "update_ids()\n",
    "print(asset_ids)"
   ]
  },
  {
   "cell_type": "code",
   "execution_count": 233,
   "metadata": {
    "scrolled": true
   },
   "outputs": [
    {
     "name": "stderr",
     "output_type": "stream",
     "text": [
      "[Updating all                           ]:   0%|          | 0/3 [00:00<?, ?it/s]\n",
      "[Updating Meta Data from Coinapi        ]:   0%|          | 0/5 [00:00<?, ?it/s]\u001b[A\n",
      "[Updating Meta Data from Coinapi        ]:  40%|████      | 2/5 [00:00<00:01,  2.76it/s]\u001b[A\n",
      "[Updating Meta Data from Coinapi        ]:  60%|██████    | 3/5 [00:02<00:01,  1.14it/s]\u001b[A\n",
      "[Updating Meta Data from Coinapi        ]:  80%|████████  | 4/5 [00:10<00:02,  2.60s/it]\u001b[A\n",
      "[Updating Meta Data from Coinapi        ]: 100%|██████████| 5/5 [00:10<00:00,  2.16s/it]\u001b[A\n",
      "[Updating all                           ]:  33%|███▎      | 1/3 [00:10<00:21, 10.81s/it]\n",
      "[Updating time related variables        ]:   0%|          | 0/28 [00:00<?, ?it/s]\u001b[A\n",
      "[Updating all                           ]: 100%|██████████| 3/3 [00:10<00:00,  3.61s/it]it/s]\u001b[A\n"
     ]
    }
   ],
   "source": [
    "update_all()"
   ]
  },
  {
   "cell_type": "code",
   "execution_count": 235,
   "metadata": {},
   "outputs": [],
   "source": [
    "def current_exchange_rate(asset_1, asset_2):\n",
    "    global api\n",
    "    result = {}\n",
    "    exchange_rate   = api.exchange_rates_get_specific_rate(asset_1, asset_2)\n",
    "    result['time']  = exchange_rate['time']\n",
    "    result['base']  = exchange_rate['asset_id_base']\n",
    "    result['quote'] = exchange_rate['asset_id_quote']\n",
    "    result['rate']  = exchange_rate['rate']\n",
    "    return result"
   ]
  },
  {
   "cell_type": "code",
   "execution_count": 236,
   "metadata": {},
   "outputs": [
    {
     "name": "stdout",
     "output_type": "stream",
     "text": [
      "<class 'dict'>\n",
      "{'time': '2018-03-24T19:10:01.8695467Z', 'base': 'BTC', 'quote': 'USD', 'rate': 8920.35477472014}\n"
     ]
    }
   ],
   "source": [
    "btc_usd_exchage_rate = current_exchange_rate('BTC', 'USD')\n",
    "print(type(btc_usd_exchage_rate))\n",
    "print(btc_usd_exchage_rate)"
   ]
  },
  {
   "cell_type": "code",
   "execution_count": 237,
   "metadata": {},
   "outputs": [
    {
     "data": {
      "text/plain": [
       "dict_keys(['time', 'base', 'quote', 'rate'])"
      ]
     },
     "execution_count": 237,
     "metadata": {},
     "output_type": "execute_result"
    }
   ],
   "source": [
    "btc_usd_exchage_rate.keys()"
   ]
  },
  {
   "cell_type": "code",
   "execution_count": 208,
   "metadata": {},
   "outputs": [
    {
     "data": {
      "text/plain": [
       "dict_values(['2018-03-24T18:43:22.5277959Z', 'BTC', 'USD', 8894.493144545497])"
      ]
     },
     "execution_count": 208,
     "metadata": {},
     "output_type": "execute_result"
    }
   ],
   "source": [
    "btc_usd_exchage_rate.values()"
   ]
  },
  {
   "cell_type": "code",
   "execution_count": 238,
   "metadata": {},
   "outputs": [
    {
     "data": {
      "text/plain": [
       "2145.513849823015"
      ]
     },
     "execution_count": 238,
     "metadata": {},
     "output_type": "execute_result"
    }
   ],
   "source": [
    "\n",
    "def exchange_rate(asset_1, asset_2, date):\n",
    "    return api.exchange_rates_get_specific_rate(str(asset_1), str(asset_2), {'time': date.isoformat()})['rate']\n",
    "\n",
    "exchange_rate('BTC', 'USD', date(2017,5,27))"
   ]
  },
  {
   "cell_type": "code",
   "execution_count": null,
   "metadata": {},
   "outputs": [],
   "source": []
  },
  {
   "cell_type": "code",
   "execution_count": null,
   "metadata": {},
   "outputs": [],
   "source": []
  },
  {
   "cell_type": "code",
   "execution_count": null,
   "metadata": {},
   "outputs": [],
   "source": []
  },
  {
   "cell_type": "code",
   "execution_count": null,
   "metadata": {},
   "outputs": [],
   "source": []
  },
  {
   "cell_type": "code",
   "execution_count": null,
   "metadata": {},
   "outputs": [],
   "source": []
  },
  {
   "cell_type": "code",
   "execution_count": null,
   "metadata": {},
   "outputs": [],
   "source": []
  },
  {
   "cell_type": "code",
   "execution_count": null,
   "metadata": {},
   "outputs": [],
   "source": []
  },
  {
   "cell_type": "code",
   "execution_count": null,
   "metadata": {},
   "outputs": [],
   "source": []
  },
  {
   "cell_type": "code",
   "execution_count": null,
   "metadata": {},
   "outputs": [],
   "source": []
  },
  {
   "cell_type": "code",
   "execution_count": null,
   "metadata": {},
   "outputs": [],
   "source": []
  }
 ],
 "metadata": {
  "kernelspec": {
   "display_name": "Python 3",
   "language": "python",
   "name": "python3"
  },
  "language_info": {
   "codemirror_mode": {
    "name": "ipython",
    "version": 3
   },
   "file_extension": ".py",
   "mimetype": "text/x-python",
   "name": "python",
   "nbconvert_exporter": "python",
   "pygments_lexer": "ipython3",
   "version": "3.6.3"
  }
 },
 "nbformat": 4,
 "nbformat_minor": 2
}
